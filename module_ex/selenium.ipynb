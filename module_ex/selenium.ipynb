{
 "cells": [
  {
   "cell_type": "code",
   "execution_count": null,
   "metadata": {},
   "outputs": [],
   "source": [
    "#selenium 실행\n",
    "from selenium import webdriver\n",
    "\n",
    "path = \"c:/doit/chromedriver_win32/chromedriver.exe\"\n",
    "driver = webdriver.Chrome(path)\n",
    "\n",
    "url = 'https://korean.visitkorea.or.kr/main/main.html'\n",
    "driver.get(url)\n"
   ]
  },
  {
   "cell_type": "raw",
   "metadata": {},
   "source": [
    "Selenium With Python\n",
    "\n",
    "[http://selenium-python.readthedocs.io]\n",
    "\n",
    "\n",
    "Selenium Locating Elements (python)\n",
    "https://selenium-python.readthedocs.io/locating-elements.html\n",
    "\n",
    "아래 method들은 HTML의 page source중 가장 첫번째 element를 반환합니다.\n",
    "find_element_by_id\n",
    "find_element_by_name\n",
    "find_element_by_xpath\n",
    "find_element_by_link_text\n",
    "find_element_by_partial_link_text\n",
    "find_element_by_tag_name\n",
    "find_element_by_class_name\n",
    "find_element_by_css_selector\n",
    "\n",
    "multiple elements는 아래 method를 사용합니다.\n",
    "find_elements_by_name\n",
    "find_elements_by_xpath\n",
    "find_elements_by_link_text\n",
    "find_elements_by_partial_link_text\n",
    "find_elements_by_tag_name\n",
    "find_elements_by_class_name\n",
    "find_elements_by_css_selector\n",
    "\n",
    "\n",
    "from selenium.webdriver.common.by import By\n",
    "\n",
    "driver.find_element(By.XPATH, '//button[text()=\"Some text\"]')\n",
    "driver.find_elements(By.XPATH, '//button')\n"
   ]
  },
  {
   "cell_type": "raw",
   "metadata": {},
   "source": [
    "# -*- coding: utf-8 -*-\n",
    "import time\n",
    "from selenium import webdriver\n",
    "\n",
    "# Chrome WebDriver를 이용해 Chrome을 실행합니다.\n",
    "driver = webdriver.Chrome('./chromedriver')\n",
    "\n",
    "# www.google.com으로 이동합니다.\n",
    "driver.get('http://www.google.com')\n",
    "time.sleep(2)\n",
    "\n",
    "# html element 이름이 q인 것을 찾습니다. (검색창)\n",
    "inputElement = driver.find_element_by_name('q')\n",
    "time.sleep(2)\n",
    "\n",
    "# 검색창에 'www.ngle.co.kr'을 입력합니다.\n",
    "inputElement.send_keys('ngle')\n",
    "time.sleep(2)\n",
    "\n",
    "# 검색 내용을 보냅니다.\n",
    "inputElement.submit()\n",
    "time.sleep(2)\n",
    "\n",
    "# 검색된 리스트 중 링크 텍스트에 'THE BEST BUSINESS PLAN'이 포함된 것을 찾습니다.\n",
    "continue_link = driver.find_element_by_partial_link_text('THE BEST BUSINESS PLAN')\n",
    "time.sleep(2)\n",
    "\n",
    "# 해당 링크를 클릭합니다.\n",
    "continue_link.click()\n",
    "time.sleep(5)\n",
    "\n",
    "# 페이지를 뒤로 감니다. (검색 결과 리스트를 다시 봅니다.)\n",
    "driver.back()\n",
    "time.sleep(5)\n",
    "\n",
    "# ngle 웹 사이트로 다시 감니다.\n",
    "driver.forward()\n",
    "time.sleep(5)"
   ]
  },
  {
   "cell_type": "code",
   "execution_count": 8,
   "metadata": {},
   "outputs": [
    {
     "name": "stderr",
     "output_type": "stream",
     "text": [
      "c:\\users\\nipa\\appdata\\local\\programs\\python\\python37-32\\lib\\site-packages\\ipykernel_launcher.py:13: DeprecationWarning: use options instead of chrome_options\n",
      "  del sys.path[0]\n"
     ]
    }
   ],
   "source": [
    "#Chrome 브라우저 창 크기 조절 과 뒤로가기 앞으로 가기\n",
    "\n",
    "from selenium import webdriver\n",
    "from selenium.webdriver.chrome.options import Options\n",
    "\n",
    "path = \"c:/doit/chromedriver_win32/chromedriver.exe\"\n",
    "\n",
    "options = Options()\n",
    "\n",
    "# chrome에서 F11을 눌러 전체 화면으로 넓히는 옵션입니다.\n",
    "options.add_argument('--kiosk')\n",
    "\n",
    "# chrome을 전체화면으로 넓히는 옵션입니다.\n",
    "#options.add_argument('--start-fullscreen')\n",
    "\n",
    "# chrome 창을 원하는 가로폭과 세로폭으로 저정합니다.\n",
    "#driver.set_window_size(1024, 600)\n",
    "\n",
    "# executable_path에는 chromedriver 실행 파일의 경로를 넣고, chrome_options에는 options 변수를 넣습니다.\n",
    "#driver = webdriver.Chrome(executable_path='./chromedriver', chrome_options=options)\n",
    "driver = webdriver.Chrome(executable_path= path , chrome_options=options)\n",
    "\n",
    "\n",
    "# 브라우저에서 google을 접속합니다.\n",
    "driver.get('https://google.com')"
   ]
  },
  {
   "cell_type": "code",
   "execution_count": 6,
   "metadata": {},
   "outputs": [
    {
     "name": "stdout",
     "output_type": "stream",
     "text": [
      "<selenium.webdriver.remote.webelement.WebElement (session=\"2fbbec275e12bb3fc25be6c2ade8d0dd\", element=\"65206a4f-f62a-458f-9d21-c62f08ab72ba\")>\n"
     ]
    }
   ],
   "source": [
    "from selenium import webdriver\n",
    "from bs4 import BeautifulSoup\n",
    "\n",
    "path = \"c:/doit/chromedriver_win32/chromedriver.exe\"\n",
    "driver = webdriver.Chrome(path)\n",
    "\n",
    "url = 'https://nid.naver.com/nidlogin.login?mode=form&url=https%3A%2F%2Fwww.naver.com'\n",
    "driver.get(url)\n",
    "\n",
    "html = driver.page_source\n",
    "soup = BeautifulSoup(html, 'html.parser')\n",
    "\n",
    "login_form = driver.find_element_by_id('id')\n",
    "\n",
    "print(login_form)"
   ]
  },
  {
   "cell_type": "code",
   "execution_count": null,
   "metadata": {},
   "outputs": [],
   "source": [
    "#selenium 다운로드 저장 경로 변경\n",
    "from selenium import webdriver\n",
    "import time\n",
    "\n",
    "testUrl = \"http://localhost:8080/download/avocado-prices.zip\"\n",
    "driver = \"/Users/akamikang/developer/lib/chromedriver\"\n",
    "screenshot_name = \"my_mail_box.png\"\n",
    "\n",
    "\n",
    "options = webdriver.ChromeOptions()\n",
    "#options.add_argument('headless')\n",
    "options.add_argument(\"disable-gpu\")\n",
    "options.add_argument(\"lang=ko_KR\") # 한국어!\n",
    "options.add_argument(\"user-agent=Mozilla/5.0 (Macintosh; Intel Mac OS X 10_12_6) AppleWebKit/537.36 (KHTML, like Gecko) Chrome/61.0.3163.100 Safari/537.36\")\n",
    "\n",
    "options.add_experimental_option(\"prefs\", {\n",
    "  \"download.default_directory\": r\"/Users/akamikang/developer/pythonworkspace/stock\",\n",
    "  \"download.prompt_for_download\": False,\n",
    "  \"download.directory_upgrade\": True,\n",
    "  \"safebrowsing.enabled\": True\n",
    "})\n",
    "driver = webdriver.Chrome(driver, chrome_options=options)\n",
    "driver.set_window_size(1920, 1080)\n",
    "driver.get(testUrl)\n",
    "driver.implicitly_wait(3)\n",
    "driver.get_screenshot_as_file(screenshot_name)\n",
    "driver.implicitly_wait(3)\n",
    "driver.save_screenshot(screenshot_name)\n",
    "driver.quit()"
   ]
  },
  {
   "cell_type": "code",
   "execution_count": 1,
   "metadata": {},
   "outputs": [
    {
     "name": "stdout",
     "output_type": "stream",
     "text": [
      "구입하기\n",
      "Apple MacBook\n",
      "Buy 13-inch MacBook Pro\n",
      "MacBook Pro 13형\n",
      "Apple MacBook Pro\n",
      "MacBook Pro 16형\n"
     ]
    }
   ],
   "source": [
    "import os\n",
    "from selenium import webdriver\n",
    "from selenium.webdriver.support.ui import WebDriverWait\n",
    "from selenium.webdriver.support import expected_conditions as EC\n",
    "from selenium.webdriver.common.by import By\n",
    "\n",
    "path = \"c:/doit/chromedriver_win32/chromedriver.exe\"\n",
    "driver = webdriver.Chrome(path)\n",
    "driver.get(\"https://www.google.co.kr\")\n",
    "\n",
    "#query = driver.find_element_by_name(\"q\").send_keys(\"macbook pro\")\n",
    "driver.find_element_by_name(\"q\").send_keys(\"macbook pro\")\n",
    "driver.find_element_by_name(\"btnK\").click()\n",
    "\n",
    "\n",
    "WebDriverWait(driver, 10).until(EC.visibility_of_element_located((By.CSS_SELECTOR, \"h3.r\")))\n",
    "\n",
    "page_results = driver.find_elements(By.CSS_SELECTOR, \"h3.r\")\n",
    "\n",
    "for item in page_results:\n",
    "    print(item.text)"
   ]
  },
  {
   "cell_type": "code",
   "execution_count": null,
   "metadata": {},
   "outputs": [],
   "source": [
    "# WebDriverWait() 사용하기\n",
    "\n",
    "# import time 과 같은? : time.sleep(10) \n",
    "# 또는 driver.implicitly_wait(10) # from selenium import webdriver\n",
    "\n",
    "\n",
    "from selenium import webdriver\n",
    "from selenium.webdriver.common.by import By\n",
    "from selenium.webdriver.support.ui import WebDriverWait\n",
    "from selenium.webdriver.support import expected_conditions as EC\n",
    "\n",
    "#driver = webdriver.Firefox(\"drive 경로\")\n",
    "driver = webdriver.Chrome(\"drive 경로\")\n",
    "driver.get(\"URL 주소\")\n",
    "\n",
    "try:\n",
    "    # ID가 myDynamicElement인 element가 로딩될 때 까지 10초 대기\n",
    "    element = WebDriverWait(driver, 10).until(\n",
    "        EC.presence_of_element_located((By.ID, \"myDynamicElement\"))\n",
    "    )\n",
    "except TimeoutException:\n",
    "\t# 실패 시에는 에러메시지로 Time Out 출력\n",
    "    print('Time Out')\n",
    "finally:\n",
    "    driver.quit()\n",
    "    \n",
    "    \n",
    "#By.ID에서 ID 대신 CSS Selector를 사용할 수도 있다. \n",
    "try:\n",
    "    WebDriverWait(driver, 10).until(\n",
    "        EC.presence_of_element_located((By.CSS_SELECTOR, '.lst_site'))\n",
    "    )\n",
    "except TimeoutException:\n",
    "    print('Time Out')\n",
    "finally:\n",
    "    driver.quit()"
   ]
  },
  {
   "cell_type": "code",
   "execution_count": 12,
   "metadata": {
    "collapsed": true
   },
   "outputs": [
    {
     "name": "stdout",
     "output_type": "stream",
     "text": [
      "['CDwindow-55C3C69240E1A73742355FAEA7A437B3']\n"
     ]
    },
    {
     "name": "stderr",
     "output_type": "stream",
     "text": [
      "c:\\users\\nipa\\appdata\\local\\programs\\python\\python37-32\\lib\\site-packages\\ipykernel_launcher.py:33: DeprecationWarning: use driver.switch_to.window instead\n"
     ]
    },
    {
     "ename": "NoAlertPresentException",
     "evalue": "Message: no such alert\n  (Session info: chrome=86.0.4240.183)\n",
     "output_type": "error",
     "traceback": [
      "\u001b[1;31m---------------------------------------------------------------------------\u001b[0m",
      "\u001b[1;31mNoAlertPresentException\u001b[0m                   Traceback (most recent call last)",
      "\u001b[1;32m<ipython-input-12-8ba76237fe28>\u001b[0m in \u001b[0;36m<module>\u001b[1;34m\u001b[0m\n\u001b[0;32m     36\u001b[0m \u001b[1;33m\u001b[0m\u001b[0m\n\u001b[0;32m     37\u001b[0m \u001b[0mda\u001b[0m \u001b[1;33m=\u001b[0m \u001b[0mAlert\u001b[0m\u001b[1;33m(\u001b[0m\u001b[0mdriver\u001b[0m\u001b[1;33m)\u001b[0m\u001b[1;33m\u001b[0m\u001b[1;33m\u001b[0m\u001b[0m\n\u001b[1;32m---> 38\u001b[1;33m \u001b[0mda\u001b[0m\u001b[1;33m.\u001b[0m\u001b[0maccept\u001b[0m\u001b[1;33m(\u001b[0m\u001b[1;33m)\u001b[0m\u001b[1;33m\u001b[0m\u001b[1;33m\u001b[0m\u001b[0m\n\u001b[0m",
      "\u001b[1;32mc:\\users\\nipa\\appdata\\local\\programs\\python\\python37-32\\lib\\site-packages\\selenium\\webdriver\\common\\alert.py\u001b[0m in \u001b[0;36maccept\u001b[1;34m(self)\u001b[0m\n\u001b[0;32m     86\u001b[0m         \"\"\"\n\u001b[0;32m     87\u001b[0m         \u001b[1;32mif\u001b[0m \u001b[0mself\u001b[0m\u001b[1;33m.\u001b[0m\u001b[0mdriver\u001b[0m\u001b[1;33m.\u001b[0m\u001b[0mw3c\u001b[0m\u001b[1;33m:\u001b[0m\u001b[1;33m\u001b[0m\u001b[1;33m\u001b[0m\u001b[0m\n\u001b[1;32m---> 88\u001b[1;33m             \u001b[0mself\u001b[0m\u001b[1;33m.\u001b[0m\u001b[0mdriver\u001b[0m\u001b[1;33m.\u001b[0m\u001b[0mexecute\u001b[0m\u001b[1;33m(\u001b[0m\u001b[0mCommand\u001b[0m\u001b[1;33m.\u001b[0m\u001b[0mW3C_ACCEPT_ALERT\u001b[0m\u001b[1;33m)\u001b[0m\u001b[1;33m\u001b[0m\u001b[1;33m\u001b[0m\u001b[0m\n\u001b[0m\u001b[0;32m     89\u001b[0m         \u001b[1;32melse\u001b[0m\u001b[1;33m:\u001b[0m\u001b[1;33m\u001b[0m\u001b[1;33m\u001b[0m\u001b[0m\n\u001b[0;32m     90\u001b[0m             \u001b[0mself\u001b[0m\u001b[1;33m.\u001b[0m\u001b[0mdriver\u001b[0m\u001b[1;33m.\u001b[0m\u001b[0mexecute\u001b[0m\u001b[1;33m(\u001b[0m\u001b[0mCommand\u001b[0m\u001b[1;33m.\u001b[0m\u001b[0mACCEPT_ALERT\u001b[0m\u001b[1;33m)\u001b[0m\u001b[1;33m\u001b[0m\u001b[1;33m\u001b[0m\u001b[0m\n",
      "\u001b[1;32mc:\\users\\nipa\\appdata\\local\\programs\\python\\python37-32\\lib\\site-packages\\selenium\\webdriver\\remote\\webdriver.py\u001b[0m in \u001b[0;36mexecute\u001b[1;34m(self, driver_command, params)\u001b[0m\n\u001b[0;32m    319\u001b[0m         \u001b[0mresponse\u001b[0m \u001b[1;33m=\u001b[0m \u001b[0mself\u001b[0m\u001b[1;33m.\u001b[0m\u001b[0mcommand_executor\u001b[0m\u001b[1;33m.\u001b[0m\u001b[0mexecute\u001b[0m\u001b[1;33m(\u001b[0m\u001b[0mdriver_command\u001b[0m\u001b[1;33m,\u001b[0m \u001b[0mparams\u001b[0m\u001b[1;33m)\u001b[0m\u001b[1;33m\u001b[0m\u001b[1;33m\u001b[0m\u001b[0m\n\u001b[0;32m    320\u001b[0m         \u001b[1;32mif\u001b[0m \u001b[0mresponse\u001b[0m\u001b[1;33m:\u001b[0m\u001b[1;33m\u001b[0m\u001b[1;33m\u001b[0m\u001b[0m\n\u001b[1;32m--> 321\u001b[1;33m             \u001b[0mself\u001b[0m\u001b[1;33m.\u001b[0m\u001b[0merror_handler\u001b[0m\u001b[1;33m.\u001b[0m\u001b[0mcheck_response\u001b[0m\u001b[1;33m(\u001b[0m\u001b[0mresponse\u001b[0m\u001b[1;33m)\u001b[0m\u001b[1;33m\u001b[0m\u001b[1;33m\u001b[0m\u001b[0m\n\u001b[0m\u001b[0;32m    322\u001b[0m             response['value'] = self._unwrap_value(\n\u001b[0;32m    323\u001b[0m                 response.get('value', None))\n",
      "\u001b[1;32mc:\\users\\nipa\\appdata\\local\\programs\\python\\python37-32\\lib\\site-packages\\selenium\\webdriver\\remote\\errorhandler.py\u001b[0m in \u001b[0;36mcheck_response\u001b[1;34m(self, response)\u001b[0m\n\u001b[0;32m    240\u001b[0m                 \u001b[0malert_text\u001b[0m \u001b[1;33m=\u001b[0m \u001b[0mvalue\u001b[0m\u001b[1;33m[\u001b[0m\u001b[1;34m'alert'\u001b[0m\u001b[1;33m]\u001b[0m\u001b[1;33m.\u001b[0m\u001b[0mget\u001b[0m\u001b[1;33m(\u001b[0m\u001b[1;34m'text'\u001b[0m\u001b[1;33m)\u001b[0m\u001b[1;33m\u001b[0m\u001b[1;33m\u001b[0m\u001b[0m\n\u001b[0;32m    241\u001b[0m             \u001b[1;32mraise\u001b[0m \u001b[0mexception_class\u001b[0m\u001b[1;33m(\u001b[0m\u001b[0mmessage\u001b[0m\u001b[1;33m,\u001b[0m \u001b[0mscreen\u001b[0m\u001b[1;33m,\u001b[0m \u001b[0mstacktrace\u001b[0m\u001b[1;33m,\u001b[0m \u001b[0malert_text\u001b[0m\u001b[1;33m)\u001b[0m\u001b[1;33m\u001b[0m\u001b[1;33m\u001b[0m\u001b[0m\n\u001b[1;32m--> 242\u001b[1;33m         \u001b[1;32mraise\u001b[0m \u001b[0mexception_class\u001b[0m\u001b[1;33m(\u001b[0m\u001b[0mmessage\u001b[0m\u001b[1;33m,\u001b[0m \u001b[0mscreen\u001b[0m\u001b[1;33m,\u001b[0m \u001b[0mstacktrace\u001b[0m\u001b[1;33m)\u001b[0m\u001b[1;33m\u001b[0m\u001b[1;33m\u001b[0m\u001b[0m\n\u001b[0m\u001b[0;32m    243\u001b[0m \u001b[1;33m\u001b[0m\u001b[0m\n\u001b[0;32m    244\u001b[0m     \u001b[1;32mdef\u001b[0m \u001b[0m_value_or_default\u001b[0m\u001b[1;33m(\u001b[0m\u001b[0mself\u001b[0m\u001b[1;33m,\u001b[0m \u001b[0mobj\u001b[0m\u001b[1;33m,\u001b[0m \u001b[0mkey\u001b[0m\u001b[1;33m,\u001b[0m \u001b[0mdefault\u001b[0m\u001b[1;33m)\u001b[0m\u001b[1;33m:\u001b[0m\u001b[1;33m\u001b[0m\u001b[1;33m\u001b[0m\u001b[0m\n",
      "\u001b[1;31mNoAlertPresentException\u001b[0m: Message: no such alert\n  (Session info: chrome=86.0.4240.183)\n"
     ]
    }
   ],
   "source": [
    "# pop up 창 닫기   #https://sikaleo.tistory.com/60\n",
    "from selenium import webdriver \n",
    "import time \n",
    "\n",
    "\n",
    "#url = 'http://www.lottemart.com' \n",
    "url = 'https://korean.visitkorea.or.kr/main/main.html'\n",
    "\n",
    "path = \"c:/doit/chromedriver_win32/chromedriver.exe\"\n",
    "driver = webdriver.Chrome(path)\n",
    "#driver = webdriver.Chrome('./chromedriver') \n",
    "driver.get(url) \n",
    "\n",
    "# 팝업창 만큼 요소가 늘어나는 걸 확인할 수 있음. \n",
    "print(driver.window_handles) \n",
    "time.sleep(5) \n",
    "#팝업창 1개 일때 \n",
    "# driver.switch_to_window(driver.window_handles[1]) \n",
    "# driver.close() \n",
    "\n",
    "# 팝업창이 여러개 일때 \n",
    "main = driver.window_handles \n",
    "for handle in main: \n",
    "    if handle != main[0]: \n",
    "        driver.switch_to_window(handle) \n",
    "        driver.close() \n",
    "\n",
    "#'장난감' 코너 눌러보기 \n",
    "#driver.switch_to_window(driver.window_handles[0]) \n",
    "#driver.find_element_by_class_name('logo-toysrus').click()\n",
    "\n",
    "driver.switch_to_window(driver.window_handles[0])\n",
    "#출처:  [SIKALEO]\n",
    "\n",
    "# 2번째 방법\n",
    "from selenium.webdriver.common.alert import Alert\n",
    "\n",
    "da = Alert(driver)\n",
    "da.accept()"
   ]
  },
  {
   "cell_type": "code",
   "execution_count": null,
   "metadata": {},
   "outputs": [],
   "source": [
    "\n",
    " \n",
    " "
   ]
  }
 ],
 "metadata": {
  "kernelspec": {
   "display_name": "Python 3",
   "language": "python",
   "name": "python3"
  },
  "language_info": {
   "codemirror_mode": {
    "name": "ipython",
    "version": 3
   },
   "file_extension": ".py",
   "mimetype": "text/x-python",
   "name": "python",
   "nbconvert_exporter": "python",
   "pygments_lexer": "ipython3",
   "version": "3.7.3"
  }
 },
 "nbformat": 4,
 "nbformat_minor": 2
}
