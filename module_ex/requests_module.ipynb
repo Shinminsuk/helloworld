{
 "cells": [
  {
   "cell_type": "code",
   "execution_count": 18,
   "metadata": {
    "scrolled": true
   },
   "outputs": [
    {
     "data": {
      "text/plain": [
       "200"
      ]
     },
     "execution_count": 18,
     "metadata": {},
     "output_type": "execute_result"
    }
   ],
   "source": [
    "import requests\n",
    "url = 'http://nadocoding.tistory.com' \n",
    "response = requests.get(url) \n",
    "response.status_code "
   ]
  },
  {
   "cell_type": "code",
   "execution_count": 2,
   "metadata": {
    "collapsed": true
   },
   "outputs": [
    {
     "data": {
      "text/plain": [
       "'\\n\\t<!doctype html>\\n\\t<html lang=\"ko\">\\n\\t<head>\\n\\t\\t<meta charset=\"utf-8\">\\n\\t\\t<meta property=\"og:url\" content=\"https://www.tistory.com\">\\n\\t\\t<meta property=\"og:site_name\" content=\"TISTORY\">\\n\\t\\t<meta property=\"og:title\" content=\"TISTORY\">\\n\\t\\t<meta property=\"og:description\" content=\"나를 표현하는 블로그를 만들어보세요.\">\\n\\t\\t<meta property=\"og:image\" content=\"//t1.daumcdn.net/tistory_admin/static/images/openGraph/opengraph.png\">\\n\\t\\t<title>TISTORY</title>\\n\\t\\t<link rel=\"shortcut icon\" href=\"//t1.daumcdn.net/tistory_admin/static/top/favicon.ico\">\\n\\t\\t<link rel=\"apple-touch-icon\" href=\"//t1.daumcdn.net/tistory_admin/static/images/openGraph/180x180.png\">\\n\\t\\t<link rel=\"apple-touch-icon\" sizes=\"76x76\" href=\"//t1.daumcdn.net/tistory_admin/static/images/openGraph/76x76.png\">\\n\\t\\t<link rel=\"apple-touch-icon\" sizes=\"120x120\" href=\"//t1.daumcdn.net/tistory_admin/static/images/openGraph/120x120.png\">\\n\\t\\t<link rel=\"apple-touch-icon\" sizes=\"152x152\" href=\"//t1.daumcdn.net/tistory_admin/static/images/openGraph/152x152.png\">\\n\\t\\t<link rel=\"stylesheet\" type=\"text/css\" href=\"//t1.daumcdn.net/tistory_admin/assets/tistory-web-top/1603951535/static/css/ext/swiper.min.css\">\\n\\t\\t<link rel=\"stylesheet\" type=\"text/css\" href=\"//t1.daumcdn.net/tistory_admin/www/style/top/font.css\">\\n\\t\\t<link rel=\"stylesheet\" type=\"text/css\" href=\"https://t1.daumcdn.net/tistory_admin/assets/tistory-gnb/3.2.2/gnb.min.css\">\\n\\t\\t<link rel=\"stylesheet\" type=\"text/css\" href=\"//t1.daumcdn.net/tistory_admin/assets/tistory-web-top/1603951535/static/css/pc/top.css\">\\n\\t\\t<script type=\"text/javascript\" src=\"https://developers.kakao.com/sdk/js/kakao.min.js\" ></script>\\n<!--[if lt IE 9]>\\n<script src=\"https://t1.daumcdn.net/tistory_admin/lib/jquery-1.12.4.min.js\"></script>\\n<![endif]-->\\n<!--[if gte IE 9]><!-->\\n<script src=\"https://t1.daumcdn.net/tistory_admin/lib/jquery-3.1.0.min.js\"></script>\\n<!--<![endif]-->\\n<script src=\"https://t1.daumcdn.net/tistory_admin/lib/fingerprint2-1.4.2.min.js\"></script>\\n<script type=\"text/javascript\" src=\"//m1.daumcdn.net/svc/original/U03/cssjs/jquery/plugin/jquery.cookie-1.4.0.min.js\"></script>\\n<script type=\"text/javascript\" src=\"//s1.daumcdn.net/svc/original/U03/cssjs/userAgent/userAgent-1.0.14.min.js\"></script>\\n\\t</head>\\n\\t<body>\\n\\t\\t<div id=\"kakaoIndex\"><!-- 웹접근성용 바로가기 링크 모음 -->\\n\\t\\t\\t<a href=\"#kakaoBody\">본문 바로가기</a>\\n\\t\\t\\t<a href=\"#kakaoLnb\">메뉴 바로가기</a> <!-- 2017-05-31 수정 : href 값 kakaoGnb -> kakaoLnb 로 변경 -->\\n\\t\\t</div>\\n\\t\\t\\n\\t\\t<div id=\"kakaoWrap\" class=\"tistory_type1\">\\n\\t\\t\\t<div id=\"kakaoHead\" role=\"banner\" class=\"#GNB kakao_head\"><!-- head_type1 : 추가타입 -->\\n<div class=\"inner_header\">\\n\\t<h1>\\n\\t\\t<a href=\"/\" id=\"kakaoServiceLogo\" class=\"#logo img_common_tistory tit_tistory\">티스토리</a>\\n\\t</h1>\\n\\t<div id=\"kakaoGnb\" role=\"navigation\" class=\"gnb_tistory\">\\n\\t\\t<h2 class=\"screen_out\">서비스 주요 메뉴</h2>\\n\\t\\t<ul class=\"list_gnb\">\\n\\t\\t\\t<li ><a href=\"/feed\" class=\"link_gnb\">피드</a></li>\\n\\t\\t\\t<li ><a href=\"/category\" class=\"link_gnb\">스토리</a></li>\\n\\t\\t\\t<li ><a href=\"/skin\" class=\"link_gnb\">스킨</a></li>\\n\\t\\t\\t<li ><a href=\"/community\" class=\"link_gnb\">포럼</a></li>\\n\\t\\t</ul>\\n\\t</div>\\n\\t<div class=\"info_tistory\">\\n\\t\\t<div class=\"logn_tistory\" style=\"display:none\">\\n\\t\\t\\t<h2 class=\"screen_out\">로그인정보</h2>\\n\\t\\t\\t<a href=\"/auth/login?redirectUrl=http%3A%2F%2Fwww.tistory.com%2F\" class=\"link_log_info\">로그인하기</a>\\n\\t\\t\\t<a href=\"/member/join\" class=\"btn_tistory btn_log_info\">가입하기</a>\\n\\t\\t</div>\\n\\t</div>\\n</div>\\n\\t\\t\\t</div>\\n\\t\\t\\t<hr class=\"hide\">\\n\\t\\t\\t<div id=\"kakaoContent\" role=\"main\">\\n\\t\\t\\t\\t<div id=\"cMain\">\\n\\t\\t\\t\\t\\t\\n<div id=\"mFeature\" class=\"feture_main feture_top\">\\n\\t<h2 class=\"screen_out\">PRPMOTION</h2>\\n\\t<div class=\"swiper-container\">\\n\\t\\t<div class=\"swiper-wrapper main_slide\">\\n\\t\\t\\t\\t<div class=\"swiper-slide scene_slide white init_slide\" style=\"background-image:url(https://img1.daumcdn.net/thumb/R1920x0/?scode=mtistory2&fname=https%3A%2F%2Ft1.daumcdn.net%2Ftistory_admin%2Fassets%2Fpromotions%2Fcc6db46da01c4625b0bd9f3e0f654ad0.png)\">\\n\\t\\t\\t\\t\\t<div class=\"dimm_g_type2\"></div>\\n\\t\\t\\t\\t\\t<div class=\"scene_content\">\\n\\t\\t\\t\\t\\t\\t<div class=\"inner_scene\">\\n\\t\\t\\t\\t\\t\\t\\t<div class=\"scene_tistory scene_tistory_type2\">\\n\\t\\t\\t\\t\\t\\t\\t\\t\\t<strong class=\"tit_scene\">이제부터 티스토리를<br>\\n<b>카카오계정</b>으로<br>\\n이용해주세요.</strong>\\n\\t\\t\\t\\t\\t\\t\\t\\t\\t<p class=\"desc_scene\"></p>\\n\\t\\t\\t\\t\\t\\t\\t\\t\\t<div class=\"wrap_btn\"><a href=\"https://notice.tistory.com/2553\" class=\"btn_tistory \">자세히 보기</a></div>\\n\\t\\t\\t\\t\\t\\t\\t</div>\\n\\t\\t\\t\\t\\t\\t</div>\\n\\t\\t\\t\\t\\t</div>\\n\\t\\t\\t\\t</div>\\n\\t\\t\\t\\t<div class=\"swiper-slide scene_slide white \" style=\"background-image:url(https://img1.daumcdn.net/thumb/R1920x0/?scode=mtistory2&fname=https%3A%2F%2Ft1.daumcdn.net%2Ftistory_admin%2Fassets%2Fpromotions%2Frevenue_promotion.png)\">\\n\\t\\t\\t\\t\\t<div class=\"dimm_g_type2\"></div>\\n\\t\\t\\t\\t\\t<div class=\"scene_content\">\\n\\t\\t\\t\\t\\t\\t<div class=\"inner_scene\">\\n\\t\\t\\t\\t\\t\\t\\t<div class=\"scene_tistory scene_tistory_type2\">\\n\\t\\t\\t\\t\\t\\t\\t\\t\\t<strong class=\"tit_scene\">당신의 이야기가<br>\\n<b>값진 수익이 됩니다.</b></strong>\\n\\t\\t\\t\\t\\t\\t\\t\\t\\t<p class=\"desc_scene\">심사부터 광고 설정, 수익 확인까지<br>티스토리에서 바로 할 수 있어요.</p>\\n\\t\\t\\t\\t\\t\\t\\t\\t\\t<div class=\"wrap_btn\"><a href=\"https://notice.tistory.com/2572\" class=\"btn_tistory \">자세히 보기</a></div>\\n\\t\\t\\t\\t\\t\\t\\t</div>\\n\\t\\t\\t\\t\\t\\t</div>\\n\\t\\t\\t\\t\\t</div>\\n\\t\\t\\t\\t</div>\\n\\t\\t\\t\\t<div class=\"swiper-slide scene_slide white \" style=\"background-image:url(https://img1.daumcdn.net/thumb/R1920x0/?scode=mtistory2&fname=https%3A%2F%2Ft1.daumcdn.net%2Fsection%2Foc%2F8532fb82eed84069a36fa0f05170557c)\">\\n\\t\\t\\t\\t\\t<div class=\"dimm_g_type2\"></div>\\n\\t\\t\\t\\t\\t<div class=\"scene_content\">\\n\\t\\t\\t\\t\\t\\t<div class=\"inner_scene\">\\n\\t\\t\\t\\t\\t\\t\\t<div class=\"scene_tistory scene_tistory_type2\">\\n\\t\\t\\t\\t\\t\\t\\t\\t\\t<strong class=\"tit_scene\">티스토리 앱 2.0<br>\\n<b>업데이트</b></strong>\\n\\t\\t\\t\\t\\t\\t\\t\\t\\t<p class=\"desc_scene\">모바일에서도 편리한 블로그 관리를 위해<br>티스토리 앱이 새 옷을 입었습니다.</p>\\n\\t\\t\\t\\t\\t\\t\\t\\t\\t<div class=\"wrap_btn\"><a href=\"https://notice.tistory.com/2523\" class=\"btn_tistory \">자세히 보기</a></div>\\n\\t\\t\\t\\t\\t\\t\\t</div>\\n\\t\\t\\t\\t\\t\\t</div>\\n\\t\\t\\t\\t\\t</div>\\n\\t\\t\\t\\t</div>\\n\\t\\t\\t\\t\\t<div class=\"swiper-slide scene_slide white\" style=\"background-image:url(//t1.daumcdn.net/tistory_admin/static/top/pc/bg_scene03.jpg)\">\\n\\t\\t\\t\\t\\t\\t<div class=\"dimm_g_type2\"></div>\\n\\t\\t\\t\\t\\t\\t<video id=\"videoPrm\" preload muted autoplay>\\n\\t\\t\\t\\t\\t\\t\\t<source src=\"https://t1.daumcdn.net/tistory_admin/top/top_tistory.mp4\" type=\"video/mp4\">\\n\\t\\t\\t\\t\\t\\t</video>\\n\\t\\t\\t\\t\\t\\t<button type=\"button\" class=\"btn_video\"></button>\\n\\t\\t\\t\\t\\t</div>\\n\\t\\t</div>\\n\\t\\t<button type=\"button\" class=\"btn_scene btn_prev\">\\n\\t\\t\\t<span class=\"img_top ico_prev ico_prev_type1\">이전</span>\\n\\t\\t\\t<span class=\"img_top ico_prev ico_prev_type2\"></span>\\n\\t\\t</button>\\n\\t\\t<button type=\"button\" class=\"btn_scene btn_next\">\\n\\t\\t\\t<span class=\"img_top ico_next ico_next_type1\">다음</span>\\n\\t\\t\\t<span class=\"img_top ico_next ico_next_type2\"></span>\\n\\t\\t</button>\\n\\t</div>\\n</div>\\n<div id=\"mArticle\">\\n\\t<div class=\"section_content section_showcase\">\\n\\t\\t<h2 class=\"screen_out\">SHOWCASE</h2>\\n\\t\\t<div class=\"wrap_tit\">\\n\\t\\t\\t<strong class=\"tit_section\">이 놀라운 사이트들이<br><em>모두 <span class=\"txt_da\">다</span>티스토리</em>라는 사실</strong>\\n\\t\\t\\t<p class=\"desc_section\">티스토리는 그저 공간일 뿐이에요. 그 공간에 무슨일이 일어날지는 아무도 상상할 수 없죠.</p>\\n\\t\\t</div>\\n\\t\\t<div class=\"case_list\">\\n\\t\\t\\t<div class=\"inner_case\">\\n\\t\\t\\t\\t<div class=\"slide_case\" style=\"width:50000px\">\\n\\t\\t\\t\\t\\t\\t<a class=\"site_exam\" href=\"http://blogview.hyundaicardcapital.com/\" target=\"_blank\">\\n\\t\\t\\t\\t\\t\\t\\t<div class=\"wrap_thumb\">\\n\\t\\t\\t\\t\\t\\t\\t\\t<img width=\"528\" height=\"396\" src=\"https://img1.daumcdn.net/thumb/C1200x900/?scode=mtistory2&fname=https%3A%2F%2Ft1.daumcdn.net%2Ftistory_admin%2Fassets%2Fpromotions%2F5b824e346e6245beac1efe50b7638b04\" class=\"thumb_g\" alt=\"\" />\\n\\t\\t\\t\\t\\t\\t\\t</div>\\n\\t\\t\\t\\t\\t\\t\\t<div class=\"info_exam\">\\n\\t\\t\\t\\t\\t\\t\\t\\t<strong class=\"tit_exam\">현대카드 현대캐피탈 블로그</strong>\\n\\t\\t\\t\\t\\t\\t\\t\\t<p class=\"txt_exam\">현대카드 현대캐피탈 공식 블로그</p>\\n\\t\\t\\t\\t\\t\\t\\t\\t<span class=\"link_exam\">http://blogview.hyundaicardcapital.com/<span class=\"img_top ico_view\"></span></span>\\n\\t\\t\\t\\t\\t\\t\\t</div>\\n\\t\\t\\t\\t\\t\\t</a>\\n\\t\\t\\t\\t\\t\\t<a class=\"site_exam\" href=\"http://busanbusapp.tistory.com/\" target=\"_blank\">\\n\\t\\t\\t\\t\\t\\t\\t<div class=\"wrap_thumb\">\\n\\t\\t\\t\\t\\t\\t\\t\\t<img width=\"528\" height=\"396\" src=\"https://img1.daumcdn.net/thumb/C1200x900/?scode=mtistory2&fname=http%3A%2F%2Fcfile23.uf.tistory.com%2Fimage%2F991CFB3B5BB2C629215529\" class=\"thumb_g\" alt=\"\" />\\n\\t\\t\\t\\t\\t\\t\\t</div>\\n\\t\\t\\t\\t\\t\\t\\t<div class=\"info_exam\">\\n\\t\\t\\t\\t\\t\\t\\t\\t<strong class=\"tit_exam\">부산버스앱</strong>\\n\\t\\t\\t\\t\\t\\t\\t\\t<p class=\"txt_exam\">부산 노선정보 및 실시간 도착정보 알림</p>\\n\\t\\t\\t\\t\\t\\t\\t\\t<span class=\"link_exam\">http://busanbusapp.tistory.com/<span class=\"img_top ico_view\"></span></span>\\n\\t\\t\\t\\t\\t\\t\\t</div>\\n\\t\\t\\t\\t\\t\\t</a>\\n\\t\\t\\t\\t\\t\\t<a class=\"site_exam\" href=\"http://so-oh.tistory.com/category\" target=\"_blank\">\\n\\t\\t\\t\\t\\t\\t\\t<div class=\"wrap_thumb\">\\n\\t\\t\\t\\t\\t\\t\\t\\t<img width=\"528\" height=\"396\" src=\"https://img1.daumcdn.net/thumb/C1200x900/?scode=mtistory2&fname=http%3A%2F%2Fcfile1.uf.tistory.com%2Fimage%2F99368F335BB2C64F29335D\" class=\"thumb_g\" alt=\"\" />\\n\\t\\t\\t\\t\\t\\t\\t</div>\\n\\t\\t\\t\\t\\t\\t\\t<div class=\"info_exam\">\\n\\t\\t\\t\\t\\t\\t\\t\\t<strong class=\"tit_exam\">yunscent</strong>\\n\\t\\t\\t\\t\\t\\t\\t\\t<p class=\"txt_exam\">사진이 그림이 됩니다.</p>\\n\\t\\t\\t\\t\\t\\t\\t\\t<span class=\"link_exam\">http://so-oh.tistory.com/category<span class=\"img_top ico_view\"></span></span>\\n\\t\\t\\t\\t\\t\\t\\t</div>\\n\\t\\t\\t\\t\\t\\t</a>\\n\\t\\t\\t\\t\\t\\t<a class=\"site_exam\" href=\"http://mistyfriday.kr/\" target=\"_blank\">\\n\\t\\t\\t\\t\\t\\t\\t<div class=\"wrap_thumb\">\\n\\t\\t\\t\\t\\t\\t\\t\\t<img width=\"528\" height=\"396\" src=\"https://img1.daumcdn.net/thumb/C1200x900/?scode=mtistory2&fname=http%3A%2F%2Fcfile2.uf.tistory.com%2Fimage%2F996CC03C5BB2C66823DA6C\" class=\"thumb_g\" alt=\"\" />\\n\\t\\t\\t\\t\\t\\t\\t</div>\\n\\t\\t\\t\\t\\t\\t\\t<div class=\"info_exam\">\\n\\t\\t\\t\\t\\t\\t\\t\\t<strong class=\"tit_exam\">빛으로 쓴 편지</strong>\\n\\t\\t\\t\\t\\t\\t\\t\\t<p class=\"txt_exam\">여행하고 글을 씁니다.</p>\\n\\t\\t\\t\\t\\t\\t\\t\\t<span class=\"link_exam\">http://mistyfriday.kr/<span class=\"img_top ico_view\"></span></span>\\n\\t\\t\\t\\t\\t\\t\\t</div>\\n\\t\\t\\t\\t\\t\\t</a>\\n\\t\\t\\t\\t\\t\\t<a class=\"site_exam\" href=\"http://leeheehoon.tistory.com/\" target=\"_blank\">\\n\\t\\t\\t\\t\\t\\t\\t<div class=\"wrap_thumb\">\\n\\t\\t\\t\\t\\t\\t\\t\\t<img width=\"528\" height=\"396\" src=\"https://img1.daumcdn.net/thumb/C1200x900/?scode=mtistory2&fname=https%3A%2F%2Ft1.daumcdn.net%2Ftistory_admin%2Fassets%2Fpromotions%2F72a26c24396048fa9fb668442021a18b\" class=\"thumb_g\" alt=\"\" />\\n\\t\\t\\t\\t\\t\\t\\t</div>\\n\\t\\t\\t\\t\\t\\t\\t<div class=\"info_exam\">\\n\\t\\t\\t\\t\\t\\t\\t\\t<strong class=\"tit_exam\">Beyond Perspective</strong>\\n\\t\\t\\t\\t\\t\\t\\t\\t<p class=\"txt_exam\">Lee Heehoon,<br> photographer for ohmynews Seoul S.Korea</p>\\n\\t\\t\\t\\t\\t\\t\\t\\t<span class=\"link_exam\">http://leeheehoon.tistory.com/<span class=\"img_top ico_view\"></span></span>\\n\\t\\t\\t\\t\\t\\t\\t</div>\\n\\t\\t\\t\\t\\t\\t</a>\\n\\t\\t\\t\\t\\t\\t<a class=\"site_exam\" href=\"https://hygphoto.tistory.com/\" target=\"_blank\">\\n\\t\\t\\t\\t\\t\\t\\t<div class=\"wrap_thumb\">\\n\\t\\t\\t\\t\\t\\t\\t\\t<img width=\"528\" height=\"396\" src=\"https://img1.daumcdn.net/thumb/C1200x900/?scode=mtistory2&fname=http%3A%2F%2Fcfile2.uf.tistory.com%2Fimage%2F99D6CF405BB2C6B824A969\" class=\"thumb_g\" alt=\"\" />\\n\\t\\t\\t\\t\\t\\t\\t</div>\\n\\t\\t\\t\\t\\t\\t\\t<div class=\"info_exam\">\\n\\t\\t\\t\\t\\t\\t\\t\\t<strong class=\"tit_exam\">HYGPHOTO</strong>\\n\\t\\t\\t\\t\\t\\t\\t\\t<p class=\"txt_exam\">아름다운 일상의 한 컷</p>\\n\\t\\t\\t\\t\\t\\t\\t\\t<span class=\"link_exam\">https://hygphoto.tistory.com/<span class=\"img_top ico_view\"></span></span>\\n\\t\\t\\t\\t\\t\\t\\t</div>\\n\\t\\t\\t\\t\\t\\t</a>\\n\\t\\t\\t\\t\\t\\t<a class=\"site_exam\" href=\"http://www.limarchitects.co.kr\" target=\"_blank\">\\n\\t\\t\\t\\t\\t\\t\\t<div class=\"wrap_thumb\">\\n\\t\\t\\t\\t\\t\\t\\t\\t<img width=\"528\" height=\"396\" src=\"https://img1.daumcdn.net/thumb/C1200x900/?scode=mtistory2&fname=http%3A%2F%2Fcfile7.uf.tistory.com%2Fimage%2F99A4473B5BB2C7051202A8\" class=\"thumb_g\" alt=\"\" />\\n\\t\\t\\t\\t\\t\\t\\t</div>\\n\\t\\t\\t\\t\\t\\t\\t<div class=\"info_exam\">\\n\\t\\t\\t\\t\\t\\t\\t\\t<strong class=\"tit_exam\">LIM ARCHITECTS.</strong>\\n\\t\\t\\t\\t\\t\\t\\t\\t<p class=\"txt_exam\">대구 젊은 건축가 그룹 건축사사무소 엘아이엠.<br>대구 건축 설계, 컨설팅, 인테리어</p>\\n\\t\\t\\t\\t\\t\\t\\t\\t<span class=\"link_exam\">http://www.limarchitects.co.kr<span class=\"img_top ico_view\"></span></span>\\n\\t\\t\\t\\t\\t\\t\\t</div>\\n\\t\\t\\t\\t\\t\\t</a>\\n\\t\\t\\t\\t\\t\\t<a class=\"site_exam\" href=\"http://hotel990.com\" target=\"_blank\">\\n\\t\\t\\t\\t\\t\\t\\t<div class=\"wrap_thumb\">\\n\\t\\t\\t\\t\\t\\t\\t\\t<img width=\"528\" height=\"396\" src=\"https://img1.daumcdn.net/thumb/C1200x900/?scode=mtistory2&fname=http%3A%2F%2Fcfile10.uf.tistory.com%2Fimage%2F99A81B3C5BB2C6EF2C9883\" class=\"thumb_g\" alt=\"\" />\\n\\t\\t\\t\\t\\t\\t\\t</div>\\n\\t\\t\\t\\t\\t\\t\\t<div class=\"info_exam\">\\n\\t\\t\\t\\t\\t\\t\\t\\t<strong class=\"tit_exam\">HOTEL 990</strong>\\n\\t\\t\\t\\t\\t\\t\\t\\t<p class=\"txt_exam\"> WELCOME TO THE HOTEL990</p>\\n\\t\\t\\t\\t\\t\\t\\t\\t<span class=\"link_exam\">http://hotel990.com<span class=\"img_top ico_view\"></span></span>\\n\\t\\t\\t\\t\\t\\t\\t</div>\\n\\t\\t\\t\\t\\t\\t</a>\\n\\t\\t\\t\\t\\t\\t<a class=\"site_exam\" href=\"http://blog.kakaocorp.co.kr/\" target=\"_blank\">\\n\\t\\t\\t\\t\\t\\t\\t<div class=\"wrap_thumb\">\\n\\t\\t\\t\\t\\t\\t\\t\\t<img width=\"528\" height=\"396\" src=\"https://img1.daumcdn.net/thumb/C1200x900/?scode=mtistory2&fname=https%3A%2F%2Ft1.daumcdn.net%2Ftistory_admin%2Fassets%2Fpromotions%2F9a80c95f057b40f6a00a934ba7d2c4fe\" class=\"thumb_g\" alt=\"\" />\\n\\t\\t\\t\\t\\t\\t\\t</div>\\n\\t\\t\\t\\t\\t\\t\\t<div class=\"info_exam\">\\n\\t\\t\\t\\t\\t\\t\\t\\t<strong class=\"tit_exam\">카카오 소셜임팩트 블로그</strong>\\n\\t\\t\\t\\t\\t\\t\\t\\t<p class=\"txt_exam\">카카오 소셜임팩트 블로그</p>\\n\\t\\t\\t\\t\\t\\t\\t\\t<span class=\"link_exam\">http://blog.kakaocorp.co.kr/<span class=\"img_top ico_view\"></span></span>\\n\\t\\t\\t\\t\\t\\t\\t</div>\\n\\t\\t\\t\\t\\t\\t</a>\\n\\t\\t\\t\\t</div>\\n\\t\\t\\t</div>\\n\\t\\t\\t<div class=\"area_btn area_prev\">\\n\\t\\t\\t\\t<button type=\"button\" class=\"btn_tistory_type4 btn_prev slick-arrow\" style=\"\"><span class=\"img_top ico_prev\">이전</span></button>\\n\\t\\t\\t</div>\\n\\t\\t\\t<div class=\"area_btn area_next\">\\n\\t\\t\\t\\t<button type=\"button\" class=\"btn_tistory_type4 btn_next slick-arrow\" style=\"\"><span class=\"img_top ico_next\">다음</span></button>\\n\\t\\t\\t</div>\\n\\t\\t</div>\\n\\t\\t<div class=\"relative_list\">\\n\\t\\t\\t\\t<a class=\"wrap_logo\" style=\"background-image:url(https://img1.daumcdn.net/thumb/R300x100/?scode=mtistory2&fname=http%3A%2F%2Fcfile27.uf.tistory.com%2Fimage%2F99A6963C5BB2C5C32AB7FC)\" target=\"_blank\" href=\"http://thehyundaiblog.com\">현대백화점 공식블로그</a>\\n\\t\\t\\t\\t<a class=\"wrap_logo\" style=\"background-image:url(https://img1.daumcdn.net/thumb/R300x100/?scode=mtistory2&fname=http%3A%2F%2Fcfile6.uf.tistory.com%2Fimage%2F993E8D385BB2C56B27DC1E)\" target=\"_blank\" href=\"http://blog.cj.net\">Channel CJ</a>\\n\\t\\t\\t\\t<a class=\"wrap_logo\" style=\"background-image:url(https://img1.daumcdn.net/thumb/R300x100/?scode=mtistory2&fname=http%3A%2F%2Fcfile23.uf.tistory.com%2Fimage%2F991B033C5BB2C59024121E)\" target=\"_blank\" href=\"http://www.witheverland.com\">withEverland</a>\\n\\t\\t\\t\\t<a class=\"wrap_logo\" style=\"background-image:url(https://img1.daumcdn.net/thumb/R300x100/?scode=mtistory2&fname=http%3A%2F%2Fcfile21.uf.tistory.com%2Fimage%2F995901365BB2C53C27D162)\" target=\"_blank\" href=\"http://if-blog.tistory.com\">교육부 공식 블로그</a>\\n\\t\\t\\t\\t<a class=\"wrap_logo\" style=\"background-image:url(https://img1.daumcdn.net/thumb/R300x100/?scode=mtistory2&fname=http%3A%2F%2Fcfile24.uf.tistory.com%2Fimage%2F9950223C5BB2C57B2225FF)\" target=\"_blank\" href=\"http://blog.ibk.co.kr\">IBK 기업은행 블로그</a>\\n\\t\\t\\t\\t<a class=\"wrap_logo\" style=\"background-image:url(https://img1.daumcdn.net/thumb/R300x100/?scode=mtistory2&fname=http%3A%2F%2Fcfile10.uf.tistory.com%2Fimage%2F9959C2335BB2C55318B849)\" target=\"_blank\" href=\"http://blogview.hyundaicardcapital.com\">현대카드 현대캐피탈 블로그</a>\\n\\t\\t</div>\\n\\t</div>\\n\\t<div class=\"section_content section_skin\">\\n\\t\\t<h2 class=\"screen_out\">스킨고르기</h2>\\n\\t\\t<div class=\"wrap_tit wrap_tit_type1\">\\n\\t\\t\\t<strong class=\"tit_section\">마음에 드는<em><span class=\"img_square\">스킨</span>고르기</em>부터 시작해보세요</strong>\\n\\t\\t\\t<p class=\"desc_section\">티스토리는 얼굴이 없어요. <br>당신이 얼굴을 직접 제작할 수 있도록 다양한 스킨을 제공할 뿐이에요.</p>\\n\\t\\t</div>\\n\\t\\t<div class=\"icon_tistory icon_expression\"></div>\\n\\t\\t<div class=\"wrap_tit\">\\n\\t\\t\\t<strong class=\"tit_section tit_section_type2\">마음대로<br><em>조립하는</em><br>내 콘텐츠</strong>\\n\\t\\t\\t<p class=\"desc_section\">내 마음대로 위치를 바꿔<br>하나의 커버로도 전혀 다른 스킨을<br> 만들 수 있어요.</p>\\n\\t\\t</div>\\n\\t\\t<div class=\"box_skin\">\\n\\t\\t\\t<div class=\"wrap_thumb_skin_01\">\\n\\t\\t\\t\\t<span class=\"\" style=\"background-image:url(//t1.daumcdn.net/tistory_admin/static/top/pc/thumb_skin1_1.jpg);\"></span>\\n\\t\\t\\t\\t<span class=\"\" style=\"background-image:url(//t1.daumcdn.net/tistory_admin/static/top/pc/thumb_skin1_2.jpg);\"></span>\\n\\t\\t\\t\\t<span class=\"\" style=\"background-image:url(//t1.daumcdn.net/tistory_admin/static/top/pc/thumb_skin1_3.jpg);\"></span>\\n\\t\\t\\t\\t<span class=\"\" style=\"background-image:url(//t1.daumcdn.net/tistory_admin/static/top/pc/thumb_skin1_1.jpg);\"></span>\\n\\t\\t\\t\\t<span class=\"\" style=\"background-image:url(//t1.daumcdn.net/tistory_admin/static/top/pc/thumb_skin1_2.jpg);\"></span>\\n\\t\\t\\t\\t<span class=\"\" style=\"background-image:url(//t1.daumcdn.net/tistory_admin/static/top/pc/thumb_skin1_3.jpg);\"></span>\\n\\t\\t\\t</div>\\n\\t\\t\\t<div class=\"wrap_thumb_skin_02\">\\n\\t\\t\\t\\t<div class=\"inner_thumb\">\\n\\t\\t\\t\\t\\t<span class=\" _left\" style=\"background-image:url(//t1.daumcdn.net/tistory_admin/static/top/pc/thumb_skin2_1.jpg);height:140px\" data-index=\"1\"></span>\\n\\t\\t\\t\\t\\t<span class=\" _left\" style=\"background-image:url(//t1.daumcdn.net/tistory_admin/static/top/pc/thumb_skin2_2.jpg);height:150px\" data-index=\"2\"></span>\\n\\t\\t\\t\\t\\t<span class=\" _left\" style=\"background-image:url(//t1.daumcdn.net/tistory_admin/static/top/pc/thumb_skin2_3.jpg);height:432px\" data-index=\"3\"></span>\\n\\t\\t\\t\\t\\t<span class=\" _right\" style=\"background-image:url(//t1.daumcdn.net/tistory_admin/static/top/pc/thumb_skin2_3.jpg);height:432px\" data-index=\"1\"></span>\\n\\t\\t\\t\\t\\t<span class=\" _right\" style=\"background-image:url(//t1.daumcdn.net/tistory_admin/static/top/pc/thumb_skin2_2.jpg);height:150px\" data-index=\"2\"></span>\\n\\t\\t\\t\\t\\t<span class=\" _right\" style=\"background-image:url(//t1.daumcdn.net/tistory_admin/static/top/pc/thumb_skin2_1.jpg);height:140px\" data-index=\"3\"></span>\\n\\t\\t\\t\\t</div>\\n\\t\\t\\t</div>\\n\\t\\t</div>\\n\\t\\t<a href=\"/skin/pg_Poster\" class=\"link_section\">\\n\\t\\t\\t<strong class=\"tit_link\">Poster</strong>\\n\\t\\t\\t<span class=\"desc_link\">스킨 보기</span>\\n\\t\\t\\t<span class=\"img_top ico_link_arrow\"></span>\\n\\t\\t</a>\\n\\t</div>\\n\\t<div class=\"section_content section_photo\">\\n\\t\\t<h2 class=\"screen_out\">사진변경</h2>\\n\\t\\t<div class=\"wrap_tit\">\\n\\t\\t\\t<strong class=\"tit_section tit_section_type2\"><em>사진만 바꾸어도</em><br>다른 분위기</strong>\\n\\t\\t\\t<p class=\"desc_section\">스킨은 그저 캔버스일 뿐입니다.<br>스킨 속 같은 커버라도 이미지에 따라<br>전혀 다른 분위기를 연출할 수 있어요. </p>\\n\\t\\t</div>\\n\\t\\t<div class=\"wrap_photo_skin\">\\n\\t\\t\\t<div class=\"photo_skin\">\\n\\t\\t\\t\\t<div class=\"skin_move\">\\n\\t\\t\\t\\t\\t<span class=\"bg_img\" style=\"background-image:url(//t1.daumcdn.net/tistory_admin/static/top/pc/photo_skin01.jpg);\"></span>\\n\\t\\t\\t\\t\\t<span class=\"bg_img\" style=\"background-image:url(//t1.daumcdn.net/tistory_admin/static/top/pc/photo_skin03.jpg);\"></span>\\n\\t\\t\\t\\t</div>\\n\\t\\t\\t\\t<div class=\"box_img_skin\">\\n\\t\\t\\t\\t\\t<div class=\"wrap_skin\">\\n\\t\\t\\t\\t\\t\\t<div class=\"skin_move\">\\n\\t\\t\\t\\t\\t\\t\\t<span class=\"bg_img_sm\" style=\"background-image:url(//t1.daumcdn.net/tistory_admin/static/top/pcrtn/photo_skin01_sm.jpg);\"></span>\\n\\t\\t\\t\\t\\t\\t\\t<span class=\"bg_img_sm\" style=\"background-image:url(//t1.daumcdn.net/tistory_admin/static/top/pcrtn/photo_skin03_sm.jpg);\"></span>\\n\\t\\t\\t\\t\\t\\t</div>\\n\\t\\t\\t\\t\\t</div>\\n\\t\\t\\t\\t\\t<div class=\"wrap_skin\">\\n\\t\\t\\t\\t\\t\\t<div class=\"txt_img_skin\" style=\"background-image:url(//t1.daumcdn.net/tistory_admin/static/top/pcrtn/photo_skin_txt02.png);\"></div>\\n\\t\\t\\t\\t\\t\\t<div class=\"txt_img_skin\" style=\"background-image:url(//t1.daumcdn.net/tistory_admin/static/top/pcrtn/photo_skin_txt04.png);\"></div>\\n\\t\\t\\t\\t\\t</div>\\n\\t\\t\\t\\t</div>\\n\\t\\t\\t</div>\\n\\t\\t\\t<div class=\"photo_skin\">\\n\\t\\t\\t\\t<div class=\"skin_move\">\\n\\t\\t\\t\\t\\t<span class=\"bg_img\" style=\"background-image:url(//t1.daumcdn.net/tistory_admin/static/top/pc/photo_skin02.jpg);\"></span>\\n\\t\\t\\t\\t\\t<span class=\"bg_img\" style=\"background-image:url(//t1.daumcdn.net/tistory_admin/static/top/pc/photo_skin04.jpg);\"></span>\\n\\t\\t\\t\\t</div>\\n\\t\\t\\t\\t<div class=\"box_img_skin\">\\n\\t\\t\\t\\t\\t<div class=\"wrap_skin\" >\\n\\t\\t\\t\\t\\t\\t<div class=\"txt_img_skin\" style=\"background-image:url(//t1.daumcdn.net/tistory_admin/static/top/pcrtn/photo_skin_txt01.png);\"></div>\\n\\t\\t\\t\\t\\t\\t<div class=\"txt_img_skin\" style=\"background-image:url(//t1.daumcdn.net/tistory_admin/static/top/pcrtn/photo_skin_txt03.png);\"></div>\\n\\t\\t\\t\\t\\t</div>\\n\\t\\t\\t\\t\\t<div class=\"wrap_skin\">\\n\\t\\t\\t\\t\\t\\t<div class=\"skin_move\">\\n\\t\\t\\t\\t\\t\\t\\t<span class=\"bg_img_sm\" style=\"background-image:url(//t1.daumcdn.net/tistory_admin/static/top/pcrtn/photo_skin02_sm.jpg);\"></span>\\n\\t\\t\\t\\t\\t\\t\\t<span class=\"bg_img_sm\" style=\"background-image:url(//t1.daumcdn.net/tistory_admin/static/top/pcrtn/photo_skin04_sm.jpg);\"></span>\\n\\t\\t\\t\\t\\t\\t</div>\\n\\t\\t\\t\\t\\t</div>\\n\\t\\t\\t\\t</div>\\n\\t\\t\\t</div>\\n\\t\\t</div>\\n\\t\\t<a href=\"/skin/pg_Whatever\" class=\"link_section\">\\n\\t\\t\\t<strong class=\"tit_link\">Whatever</strong>\\n\\t\\t\\t<span class=\"desc_link\">스킨 보기</span>\\n\\t\\t\\t<span class=\"img_top ico_link_arrow\"></span>\\n\\t\\t</a>\\n\\t</div>\\n\\t<div class=\"section_content section_magazine\"><!-- 모션 진행시 \\'rolling_up\\' 클래스 추가 -->\\n\\t\\t<h2 class=\"screen_out\">블로그와 매거진처럼 </h2>\\n\\t\\t<div class=\"wrap_tit\">\\n\\t\\t\\t<strong class=\"tit_section tit_section_type2\">때로는 <em>블로그</em>처럼,<br>때로는 <em>매거진</em>처럼</strong>\\n\\t\\t\\t<p class=\"desc_section\">복잡하지 않으면서 깔끔한 스킨 커버로<br>콘텐츠에 힘을 실어 줄 수 있습니다.</p>\\n\\t\\t</div>\\n\\t\\t<div class=\"bg_magazine\" style=\"background-image:url(//t1.daumcdn.net/tistory_admin/static/top/pc/magazin_01.jpg);\">\\n\\t\\t\\t<div class=\"bg_magazine inner_bg\" style=\"background-image:url(//t1.daumcdn.net/tistory_admin/static/top/pc/magazin_02.jpg);\"></div>\\n\\t\\t</div>\\n\\t\\t<div class=\"box_magazine\" style=\"background-image:url(//t1.daumcdn.net/tistory_admin/static/top/pcrtn/magazine_header.jpg\">\\n\\t\\t\\t<div class=\"inner_box\">\\n\\t\\t\\t\\t<img src=\"//t1.daumcdn.net/tistory_admin/static/top/pc/magazine_sm.jpg\" class=\"thumb_magazine\" width=\"540\" alt=\"\">\\n\\t\\t\\t</div>\\n\\t\\t</div>\\n\\t\\t<a href=\"/skin/xf_Letter\" class=\"link_section\">\\n\\t\\t\\t<strong class=\"tit_link\">Letter</strong>\\n\\t\\t\\t<span class=\"desc_link\">스킨 보기</span>\\n\\t\\t\\t<span class=\"img_top ico_link_arrow\"></span>\\n\\t\\t</a>\\n\\t</div>\\n\\t<div class=\"section_content section_guide\">\\n\\t\\t<h2 class=\"screen_out\">이용 가이드</h2>\\n\\t\\t<div class=\"inner_section\">\\n\\t\\t\\t<strong class=\"tit_guide\">더 잘 쓰고 싶어요?</strong>\\n\\t\\t\\t<div class=\"info_guide\">\\n\\t\\t\\t\\t    <a href=\"https://notice.tistory.com/1797\" target=\"_blank\" class=\"link_guide\">당신의 티스토리에 다양한 <em>플러그인</em>을 <br>사용할 수 있어요.</a>\\n\\t\\t\\t\\t    <a href=\"https://notice.tistory.com/2444\" target=\"_blank\" class=\"link_guide\">사이트 보안을 위해 더 안전한\\xa0<br><em>암호화 접속</em>을 사용해보세요.</a>\\n\\t\\t\\t\\t    <a href=\"https://notice.tistory.com/2400\" target=\"_blank\" class=\"link_guide\">콘텐츠를 고정된 메뉴로 유지하고 싶다면 <br><em>페이지</em>를 이용해보세요.</a>\\n\\t\\t\\t\\t    <a href=\"https://notice.tistory.com/1784\" target=\"_blank\" class=\"link_guide\">나만의 <em>도메인</em>을 연결해보세요.<br>당신의 티스토리에 엣지가 생길거예요.</a>\\n\\t\\t\\t\\t    <a href=\"https://notice.tistory.com/2384\" target=\"_blank\" class=\"link_guide\"><em>로그인 보안</em>기능으로 당신의 정보와<br>콘텐츠를 안전하게 지키세요!\\xa0</a>\\n\\t\\t\\t</div>\\n\\t\\t</div>\\n\\t</div>\\n</div>\\n\\n\\t\\t\\t\\t\\n\\t\\t\\t\\t</div>\\n\\t\\t\\t</div>\\n\\t\\t\\t<hr class=\"hide\">\\n<div id=\"daumFoot\" class=\"footer_comm\">\\n\\t<div class=\"inner_foot\">\\n\\t\\t<div class=\"cont_tistory\">\\n\\t\\t\\t<strong class=\"img_common_tistory txt_tistory\">TISTORY</strong>\\n\\t\\t\\t<p class=\"desc_footer\">티스토리는 카카오에서 <em>♥</em>을 담아 만듭니다.<br>© Kakao Corp.</p>\\n\\t\\t\\t<div class=\"search_tistory\" id=\"footerSearchContainer\">\\n\\t\\t\\t\\t<h2 class=\"screen_out\">검색</h2>\\n\\t\\t\\t\\t<form action=\"//search.daum.net/search\" target=\"_blank\" role=\"search\" method=\"get\">\\n\\t\\t\\t\\t\\t<fieldset>\\n\\t\\t\\t\\t\\t\\t<legend class=\"screen_out\">티스토리 검색</legend>\\n\\t\\t\\t\\t\\t\\t<input type=\"hidden\" name=\"w\" value=\"blog\">\\n\\t\\t\\t\\t\\t\\t<input type=\"hidden\" name=\"f\" value=\"section\">\\n\\t\\t\\t\\t\\t\\t<input type=\"hidden\" name=\"SA\" value=\"tistory\">\\n\\t\\t\\t\\t\\t\\t<input type=\"hidden\" name=\"lpp\" value=\"10\">\\n\\t\\t\\t\\t\\t\\t<input type=\"hidden\" name=\"nil_profile\" value=\"vsearch\">\\n\\t\\t\\t\\t\\t\\t<input type=\"hidden\" name=\"nil_src\" value=\"tistory\">\\n\\t\\t\\t\\t\\t\\t<div class=\"inp_text\">\\n\\t\\t\\t\\t\\t\\t\\t<input type=\"text\" id=\"footerSearchInput\" placeholder=\"검색어입력\" title=\"검색\" name=\"q\">\\n\\t\\t\\t\\t\\t\\t</div>\\n\\t\\t\\t\\t\\t\\t<button type=\"submit\" class=\"img_common_tistory btn_search\">검색</button>\\n\\t\\t\\t\\t\\t</fieldset>\\n\\t\\t\\t\\t</form>\\n\\t\\t\\t</div>\\n\\t\\t</div>\\n\\t\\t<div class=\"question_tistory\">\\n\\t\\t\\t<h2 class=\"screen_out\">문의목록</h2>\\n\\t\\t\\t<div class=\"wrap_question\">\\n\\t\\t\\t\\t<span class=\"tit_question\">메뉴가 궁금할 땐</span>\\n\\t\\t\\t\\t<ul class=\"list_question\">\\n\\t\\t\\t\\t\\t<li><a href=\"/skin\" class=\"link_txt\">스킨</a></li>\\n\\t\\t\\t\\t\\t<li><a href=\"/community/forum\" class=\"link_txt\">포럼</a></li>\\n\\t\\t\\t\\t\\t<li><a href=\"/category\" class=\"link_txt\">스토리</a></li>\\n\\t\\t\\t\\t</ul>\\n\\t\\t\\t</div>\\n\\t\\t\\t<div class=\"wrap_question\">\\n\\t\\t\\t\\t<span class=\"tit_question\">사용하다 궁금할 땐</span>\\n\\t\\t\\t\\t<ul class=\"list_question\">\\n\\t\\t\\t\\t\\t<li><a href=\"/guide/api/manage/register\" class=\"link_txt\">오픈 API</a></li>\\n\\t\\t\\t\\t\\t<li><a href=\"https://tistory.github.io/document-tistory-skin/\" class=\"link_txt\" target=\"_blank\">스킨가이드</a></li>\\n\\t\\t\\t\\t\\t<li><a href=\"https://cs.kakao.com/requests?service=175&locale=ko\" class=\"link_txt\" target=\"_blank\">고객센터</a></li>\\n\\t\\t\\t\\t</ul>\\n\\t\\t\\t</div>\\n\\t\\t\\t<div class=\"wrap_question\">\\n\\t\\t\\t\\t<span class=\"tit_question\">정책이 궁금할 땐</span>\\n\\t\\t\\t\\t<ul class=\"list_question\">\\n\\t\\t\\t\\t\\t<li><a href=\"/info/contract\" class=\"link_txt\">이용약관</a></li>\\n\\t\\t\\t\\t\\t<li><a href=\"https://www.kakao.com/policy/privacy?lang=ko\" class=\"link_txt\"><em>카카오 개인정보처리방침</em></a></li>\\n\\t\\t\\t\\t\\t<li><a href=\"/info/privacy\" class=\"link_txt\"><em>티스토리 개인정보처리방침</em></a></li>\\n\\t\\t\\t\\t\\t<li><a href=\"https://www.kakao.com/policy/safeguard\" class=\"link_txt\">청소년보호정책</a></li>\\n\\t\\t\\t\\t\\t<li><a href=\"/info/openApi\" class=\"link_txt\">오픈API 이용약관</a></li>\\n\\t\\t\\t\\t</ul>\\n\\t\\t\\t</div>\\n\\t\\t\\t<div class=\"wrap_question\">\\n\\t\\t\\t\\t<span class=\"tit_question\">도움이 필요할 땐</span>\\n\\t\\t\\t\\t<ul class=\"list_question\">\\n\\t\\t\\t\\t\\t<li><a href=\"https://www.kakao.com/policy/right\" class=\"link_txt\" target=\"_blank\">권리침해신고</a></li>\\n\\t\\t\\t\\t\\t<li><a href=\"https://cs.kakao.com/conflict\" class=\"link_txt\" target=\"_blank\">상거래 피해 구제신청</a></li>\\n\\t\\t\\t\\t</ul>\\n\\t\\t\\t</div>\\n\\t\\t</div>\\n\\t</div>\\n</div>\\n\\t\\t</div>\\n\\n\\n\\t<script type=\"text/javascript\" src=\"//t1.daumcdn.net/tistory_admin/assets/tistory-web-top/1603951535/static/js/ext/underscore-1.9.0.min.js\"></script>\\n\\n<script src=\"//t1.daumcdn.net/tistory_admin/assets/tistory-web-top/1603951535/static/js/ext/swiper.min.js\"></script>\\n<script src=\"//t1.daumcdn.net/tistory_admin/assets/tistory-web-top/1603951535/static/js/T.js\"></script>\\n<script src=\"//t1.daumcdn.net/tistory_admin/assets/tistory-web-top/1603951535/static/js/T.util.js\"></script>\\n<script src=\"//t1.daumcdn.net/tistory_admin/assets/tistory-web-top/1603951535/static/js/T.auth.js\"></script>\\n<script src=\"//t1.daumcdn.net/tistory_admin/assets/tistory-web-top/1603951535/static/js/pc/T.p.top.js\"></script>\\n\\n\\n<script type=\"text/javascript\" src=\"//t1.daumcdn.net/tiara/js/v1/tiara.min.js\"></script>\\n<script type=\"text/javascript\">\\n    window.addEventListener(\\'load\\', function (){\\n        TiaraTracker.getInstance()\\n            .setSvcDomain(\\'user.tistory.com\\')\\n            .trackPage(\\'user\\')\\n            .setSection(\\'top\\')\\n            .setPage(\\'user\\')\\n\\t\\t\\t.setKakaoAppKey(\\'b8aef3eeb03fa312b81795386484f051\\')\\n\\t\\t\\t.setAppUserId(\\'\\')\\n\\t\\t\\t.setAutoClick(true)\\n\\t\\t\\t.setDisableSendLegacy(true)\\n            .track();\\n    });\\n</script>\\n<script type=\"text/javascript\">\\n\\tvar Config = {\\n\\t\\tproduction: true,\\n\\t\\tservice: \\'tistory\\',\\n\\t\\tuseWriteButton: false,\\n\\t\\tuseBlogList: true\\n\\t};\\n\\n\\tvar appInfo = {\\n\\t\\tdomain: \\'tistory.com\\',\\n\\t\\ttopUrl: \\'https://www.tistory.com\\',\\n\\t\\tloginUrl: \\'https://www.tistory.com/auth/login\\',\\n\\t\\tlogoutUrl: \\'https://www.tistory.com/auth/logout\\',\\n\\t\\tmemberUrl: \\'https://www.tistory.com/member\\',\\n\\t\\tgnbBaseUrl: \\'https://www.tistory.com/accio\\',\\n\\t\\tthumbnailBaseUrl: \\'https://i1.daumcdn.net/thumb\\',\\n\\t\\tkakaoAccountUrl: \\'https://accounts.kakao.com/weblogin/account/info\\'\\n\\t};\\n\\n\\tvar initData = {\\n\\t};\\n\\n\\tvar production = true;\\n</script>\\n\\n    <script src=\"https://t1.daumcdn.net/tistory_admin/assets/tistory-gnb/3.2.2/gnb.min.js\"></script>\\n\\n\\t<script src=\"//t1.daumcdn.net/tistory_admin/assets/tistory-web-top/1603951535/static/js/pc/T.p.top.home.js\"></script>\\n\\n\\t<!-- IE9 이하에서 영상 슬라이드 제거 위한 조건부 스크립트 적용 -->\\n\\t<!--[if lte IE9]>\\n\\t<script type=\"text/javascript\">\\n\\t\\t(function($) {\\n\\t\\t\\tvar slideNum = $(\\'.scene_slide\\').length,\\n\\t\\t\\t\\tisVideo = $(\\'.scene_slide\\').children(\"video\").length,\\n\\t\\t\\t\\tvideoItemSlide = $(\"video\").parent(),\\n\\t\\t\\t\\tvideoItem = $(\\'video\\');\\n\\n\\t\\t\\tif(slideNum == 1){\\n\\t\\t\\t\\tif(isVideo == 1){\\n\\t\\t\\t\\t\\tvideoItem.remove();\\n\\t\\t\\t\\t}\\n\\t\\t\\t}else{\\n\\t\\t\\t\\tif(isVideo == 1){\\n\\t\\t\\t\\t\\tvideoItemSlide.remove();\\n\\t\\t\\t\\t}\\n\\t\\t\\t}\\n\\t\\t})(jQuery);\\n\\t</script>\\n\\t<![endif]-->\\n\\t\\n\\t</body>\\n\\t</html>\\n'"
      ]
     },
     "execution_count": 2,
     "metadata": {},
     "output_type": "execute_result"
    }
   ],
   "source": [
    "response.text"
   ]
  },
  {
   "cell_type": "code",
   "execution_count": 2,
   "metadata": {},
   "outputs": [
    {
     "data": {
      "text/plain": [
       "200"
      ]
     },
     "execution_count": 2,
     "metadata": {},
     "output_type": "execute_result"
    }
   ],
   "source": [
    "import requests\n",
    "from bs4 import BeautifulSoup\n",
    "\n",
    "url =\"https://google.com/\"\n",
    "\n",
    "res = requests.get(url)\n",
    "#headers = {\"User-Agent\":\"Mozilla/5.0 (Windows NT 10.0; Win64; x64) AppleWebKit/537.36 (KHTML, like Gecko) Chrome/84.0.4147.89 Safari/537.36\"}\n",
    "#res = requests.get(url, headers=headers)\n",
    "res.raise_for_status()\n",
    "res.status_code\n",
    "#soup = BeautifulSoup(res.text, \"lxml\")\n"
   ]
  },
  {
   "cell_type": "code",
   "execution_count": 4,
   "metadata": {},
   "outputs": [],
   "source": [
    "url =\"http://nadocoding.tistory.com\"\n",
    "headers = {\"User-Agent\":\"Mozilla/5.0 (Windows NT 10.0; Win64; x64) AppleWebKit/537.36 (KHTML, like Gecko) Chrome/84.0.4147.89 Safari/537.36\"}\n",
    "res = requests.get(url, headers=headers)\n",
    "res.raise_for_status()"
   ]
  },
  {
   "cell_type": "code",
   "execution_count": 5,
   "metadata": {},
   "outputs": [],
   "source": [
    "params = {'key':'value'}\n",
    "res = requests.get(url, params = params)"
   ]
  },
  {
   "cell_type": "code",
   "execution_count": 6,
   "metadata": {},
   "outputs": [],
   "source": [
    "# post \n",
    "data = {'param1':'value1'}\n",
    "res = requests.post(url, data=data)"
   ]
  },
  {
   "cell_type": "code",
   "execution_count": 7,
   "metadata": {},
   "outputs": [],
   "source": [
    "# json 모듈 사용\n",
    "\n",
    "import requests, json \n",
    "data = {'outer': {'inner': 'value'}} \n",
    "res = requests.post(url, data=json.dumps(data))"
   ]
  },
  {
   "cell_type": "code",
   "execution_count": 8,
   "metadata": {},
   "outputs": [],
   "source": [
    "# 헤더 추가, 쿠키추가\n",
    "headers = {'Content-Type': 'application/json; charset=utf-8'} \n",
    "cookies = {'session_id': 'sorryidontcare'} \n",
    "res = requests.get(url, headers=headers, cookies=cookies)"
   ]
  },
  {
   "cell_type": "code",
   "execution_count": 9,
   "metadata": {},
   "outputs": [
    {
     "data": {
      "text/plain": [
       "'utf-8'"
      ]
     },
     "execution_count": 9,
     "metadata": {},
     "output_type": "execute_result"
    }
   ],
   "source": [
    "res.apparent_encoding"
   ]
  },
  {
   "cell_type": "code",
   "execution_count": 10,
   "metadata": {},
   "outputs": [
    {
     "data": {
      "text/plain": [
       "<requests.adapters.HTTPAdapter at 0x6c0aed0>"
      ]
     },
     "execution_count": 10,
     "metadata": {},
     "output_type": "execute_result"
    }
   ],
   "source": [
    "res.connection"
   ]
  },
  {
   "cell_type": "code",
   "execution_count": 12,
   "metadata": {},
   "outputs": [
    {
     "data": {
      "text/plain": [
       "'UTF-8'"
      ]
     },
     "execution_count": 12,
     "metadata": {},
     "output_type": "execute_result"
    }
   ],
   "source": [
    "res.encoding"
   ]
  },
  {
   "cell_type": "code",
   "execution_count": 13,
   "metadata": {},
   "outputs": [
    {
     "data": {
      "text/plain": [
       "{'Date': 'Thu, 29 Oct 2020 07:24:11 GMT', 'Content-Type': 'text/html;charset=UTF-8', 'Transfer-Encoding': 'chunked', 'Connection': 'keep-alive', 'Vary': 'Accept-Encoding', 'Cache-Control': 'no-store, no-cache, must-revalidate, post-check=0, pre-check=0', 'Pragma': 'no-cache', 'Expires': 'Thu, 19 Nov 1981 08:52:00 GMT', 'X-UA-Compatible': 'IE=Edge', 'X-Content-Type-Options': 'nosniff', 'X-XSS-Protection': '1', 'X-Frame-Options': '\"allow-from tistory.com\"', 'Content-Language': 'en-US', 'server': 'hide', 'Strict-Transport-Security': 'max-age=0;', 'Content-Encoding': 'gzip'}"
      ]
     },
     "execution_count": 13,
     "metadata": {},
     "output_type": "execute_result"
    }
   ],
   "source": [
    "res.headers"
   ]
  },
  {
   "cell_type": "code",
   "execution_count": 14,
   "metadata": {},
   "outputs": [
    {
     "data": {
      "text/plain": [
       "<bound method Response.iter_content of <Response [200]>>"
      ]
     },
     "execution_count": 14,
     "metadata": {},
     "output_type": "execute_result"
    }
   ],
   "source": [
    "res.iter_content"
   ]
  },
  {
   "cell_type": "code",
   "execution_count": 15,
   "metadata": {},
   "outputs": [
    {
     "data": {
      "text/plain": [
       "<bound method Response.json of <Response [200]>>"
      ]
     },
     "execution_count": 15,
     "metadata": {},
     "output_type": "execute_result"
    }
   ],
   "source": [
    "res.json"
   ]
  },
  {
   "cell_type": "code",
   "execution_count": 19,
   "metadata": {},
   "outputs": [
    {
     "data": {
      "text/plain": [
       "True"
      ]
     },
     "execution_count": 19,
     "metadata": {},
     "output_type": "execute_result"
    }
   ],
   "source": [
    "res.ok"
   ]
  },
  {
   "cell_type": "code",
   "execution_count": 21,
   "metadata": {},
   "outputs": [
    {
     "data": {
      "text/plain": [
       "'https://www.tistory.com/'"
      ]
     },
     "execution_count": 21,
     "metadata": {},
     "output_type": "execute_result"
    }
   ],
   "source": [
    "res.url"
   ]
  },
  {
   "cell_type": "code",
   "execution_count": null,
   "metadata": {},
   "outputs": [],
   "source": [
    "from urllib.request import urlopen\n",
    "from bs4 import BeautifulSoup\n",
    "\n",
    "page = urlopen(\"http://stackoverflow.com/questions/tagged/python\")\n",
    "document = page.read()\n",
    "page.close()\n",
    "\n",
    "soup = BeautifulSoup(document, 'html.parser')\n",
    "\n",
    "questions = soup.find(id=\"questions\")\n",
    "questions_list = questions.find_all(\"a\", class_=\"question-hyperlink\")\n",
    "\n",
    "\n",
    "print(type(questions), questions.text)\n",
    "\n",
    "\n",
    "for question in questions_list:\n",
    "    \n",
    "    print(question.get_text())\n",
    "    print('http://stackoverflow.com' + question.get('href'))"
   ]
  },
  {
   "cell_type": "code",
   "execution_count": null,
   "metadata": {},
   "outputs": [],
   "source": [
    "import csv\n",
    "import requests\n",
    "from bs4 import BeautifulSoup\n",
    "\n",
    "url = \"https://finance.naver.com/sise/sise_market_sum.nhn?sosok=0&page=\"\n",
    "\n",
    "filename = \"시가총액1-200.csv\"\n",
    "f = open(filename, \"w\", encoding=\"utf-8-sig\", newline=\"\")\n",
    "writer = csv.writer(f)\n",
    "\n",
    "title = \"N\t종목명\t현재가\t전일비\t등락률\t액면가\t시가총액\t상장주식수\t외국인비율\t거래량\tPER\tROE\".split(\"\\t\")\n",
    "# [\"N\", \"종목명\", \"현재가\", ...]\n",
    "print(type(title))\n",
    "writer.writerow(title)\n",
    "\n",
    "for page in range(1, 5):\n",
    "    res = requests.get(url + str(page))\n",
    "    res.raise_for_status()\n",
    "    soup = BeautifulSoup(res.text, \"lxml\")\n",
    "\n",
    "    data_rows = soup.find(\"table\", attrs={\"class\":\"type_2\"}).find(\"tbody\").find_all(\"tr\")\n",
    "    for row in data_rows:\n",
    "        columns = row.find_all(\"td\")\n",
    "        if len(columns) <= 1: # 의미 없는 데이터는 skip\n",
    "            continue\n",
    "        data = [column.get_text().strip() for column in columns]\n",
    "        #print(data)\n",
    "        writer.writerow(data)"
   ]
  },
  {
   "cell_type": "code",
   "execution_count": null,
   "metadata": {},
   "outputs": [],
   "source": [
    "#https://stackoverflow.com/questions/2018026/what-are-the-differences-between-the-urllib-urllib2-urllib3-and-requests-modul\n",
    "\n",
    "#첫째, 완전히 편안한 API를 지원하며 다음과 같이 쉽습니다.\n",
    "import requests\n",
    "\n",
    "resp = requests.get('http://www.mywebsite.com/user')\n",
    "resp = requests.post('http://www.mywebsite.com/user')\n",
    "resp = requests.put('http://www.mywebsite.com/user/put')\n",
    "resp = requests.delete('http://www.mywebsite.com/user/delete')\n",
    "\n",
    "#GET / POST 여부에 관계없이 매개 변수를 다시 인코딩 할 필요가 없습니다. \n",
    "#단순히 사전을 인수로 사용하므로 이동하는 것이 좋습니다.\n",
    "userdata = {\"firstname\": \"John\", \"lastname\": \"Doe\", \"password\": \"jdoe123\"}\n",
    "resp = requests.post('http://www.mywebsite.com/user', data=userdata)\n",
    "\n",
    "#JSON 디코더가 내장되어 있습니다 (다시 json.loads()작성해야 할 내용이 많지는 않지만 확실히 편리합니다).\n",
    "resp.json()\n",
    "#응답 데이터가 텍스트 인 경우 다음을 사용\n",
    "resp.text"
   ]
  }
 ],
 "metadata": {
  "kernelspec": {
   "display_name": "Python 3",
   "language": "python",
   "name": "python3"
  },
  "language_info": {
   "codemirror_mode": {
    "name": "ipython",
    "version": 3
   },
   "file_extension": ".py",
   "mimetype": "text/x-python",
   "name": "python",
   "nbconvert_exporter": "python",
   "pygments_lexer": "ipython3",
   "version": "3.7.3"
  }
 },
 "nbformat": 4,
 "nbformat_minor": 2
}
