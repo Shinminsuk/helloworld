{
 "cells": [
  {
   "cell_type": "code",
   "execution_count": 1,
   "metadata": {},
   "outputs": [
    {
     "name": "stdout",
     "output_type": "stream",
     "text": [
      "<class 're.Pattern'>\n",
      "전화번호: 02-3730-5800\n",
      "전화번호: 02-730-5800\n"
     ]
    }
   ],
   "source": [
    "import re\n",
    "\n",
    "phoneNumRegex = re.compile(r'\\d{2,3}-\\d{3,4}-\\d{4}')\n",
    "\n",
    "message = '청와대 민원실 전화번호는 02-3730-5800 입니다. 자동응답기로 연결되네요. 02-730-5800 장난전화 하지 마세요.'\n",
    "\n",
    "print(type(phoneNumRegex))\n",
    "\n",
    "for phoneNum in phoneNumRegex.findall(message) :\n",
    "    print('전화번호: ' + phoneNum)"
   ]
  },
  {
   "cell_type": "code",
   "execution_count": 2,
   "metadata": {},
   "outputs": [
    {
     "name": "stdout",
     "output_type": "stream",
     "text": [
      "['023-730-5800', '02-730-5800']\n"
     ]
    }
   ],
   "source": [
    "import re\n",
    "p = re.compile(r'\\d{2,3}-\\d{3}-\\d{4}')\n",
    "message = '청와대 민원실 전화번호는 023-730-5800 입니다. 자동응답기로 연결되네요. 02-730-5800 장난전화 하지 마세요.'\n",
    "\n",
    "result = p.findall(message)\n",
    "print(result)"
   ]
  },
  {
   "cell_type": "code",
   "execution_count": 17,
   "metadata": {},
   "outputs": [
    {
     "name": "stdout",
     "output_type": "stream",
     "text": [
      "와 \n",
      "와 \n",
      "로 \n",
      "는 \n",
      "가 \n",
      "로 \n"
     ]
    }
   ],
   "source": [
    "import re\n",
    "p = re.compile(r'[은는이가으로와]\\s')\n",
    "message = '청와대와 민원실으로 전화번호는 023-730-5800가 입니다. 자동응답기로 연결되네요. 02-730-5800 장난전화 하지 마세요.'\n",
    "\n",
    "#result = p.findall(message)\n",
    "result = p.search(message)\n",
    "print(result.group())\n",
    "results = p.findall(message)\n",
    "for i in results:\n",
    "    print (i)"
   ]
  },
  {
   "cell_type": "code",
   "execution_count": 4,
   "metadata": {},
   "outputs": [
    {
     "name": "stdout",
     "output_type": "stream",
     "text": [
      "['3', '가나', '330-33', '33']\n"
     ]
    }
   ],
   "source": [
    "import re\n",
    "p = re.compile('[^a-z\\s]+')\n",
    "result = p.findall(\"life is t3oo 가나 short 330-33 33\")\n",
    "print(result)"
   ]
  },
  {
   "cell_type": "code",
   "execution_count": 5,
   "metadata": {},
   "outputs": [
    {
     "name": "stdout",
     "output_type": "stream",
     "text": [
      "m.group(): cafe\n",
      "m.string: good cafe careless \n",
      "m.start(): 5\n",
      "m.end(): 9\n",
      "m.span(): (5, 9)\n"
     ]
    }
   ],
   "source": [
    "import re\n",
    "# abcd, book, desk\n",
    "# ca?e\n",
    "# care, cafe, case, cave\n",
    "# caae, cabe, cace, cade, ...\n",
    "\n",
    "p = re.compile(\"ca.e\")\n",
    "# . (ca.e) : 하나의 문자를 의미 > care, cafe, case (O) | caffe (X)\n",
    "# ^ (^de)  : 문자열의 시작 > desk, destination (O) | fade (X)\n",
    "# $ (se$)  : 문자열의 끝 > case, base (O) | face (X)\n",
    "\n",
    "def print_match(m):\n",
    "    if m:\n",
    "        print(\"m.group():\", m.group()) # 일치하는 문자열 반환\n",
    "        print(\"m.string:\", m.string) # 입력받은 문자열\n",
    "        print(\"m.start():\", m.start()) # 일치하는 문자열의 시작 index\n",
    "        print(\"m.end():\", m.end()) # 일치하는 문자열의 끝 index\n",
    "        print(\"m.span():\", m.span()) # 일치하는 문자열의 시작 / 끝 index\n",
    "    else:\n",
    "        print(\"매칭되지 않음\")\n",
    "\n",
    "#m = p.match(\"careless\") # match : 주어진 문자열의 처음부터 일치하는지 확인\n",
    "#print_match(m)\n",
    "\n",
    "m = p.search(\"good cafe careless \") # search : 주어진 문자열 중에 일치하는게 있는지 확인\n",
    "print_match(m)\n",
    "\n",
    "#lst = p.findall(\"good care cafe\") # findall : 일치하는 모든 것을 리스트 형태로 반환\n",
    "#print(lst)\n",
    "\n",
    "\n",
    "# 1. p = re.compile(\"원하는 형태\")\n",
    "# 2. m = p.match(\"비교할 문자열\") : 주어진 문자열의 처음부터 일치하는지 확인\n",
    "# 3. m = p.search(\"비교할 문자열\") : 주어진 문자열 중에 일치하는게 있는지 확인\n",
    "# 4. lst = p.findall(\"비교할 문자열\") : 일치하는 모든 것을 \"리스트\" 형태로 반환\n",
    "\n",
    "# 원하는 형태 : 정규식\n",
    "# . (ca.e) : 하나의 문자를 의미 > care, cafe, case (O) | caffe (X)\n",
    "# ^ (^de)  : 문자열의 시작 > desk, destination (O) | fade (X)\n",
    "# $ (se$)  : 문자열의 끝 > case, base (O) | face (X)"
   ]
  },
  {
   "cell_type": "code",
   "execution_count": 19,
   "metadata": {},
   "outputs": [
    {
     "name": "stdout",
     "output_type": "stream",
     "text": [
      "매칭되지 않음\n",
      "m.group(): care\n",
      "m.string: t careless catemooo\n",
      "m.start(): 2\n",
      "m.end(): 6\n",
      "m.span(): (2, 6)\n"
     ]
    }
   ],
   "source": [
    "import re\n",
    "\n",
    "p = re.compile(\"ca.e\")\n",
    "\n",
    "def print_match(m):\n",
    "    if m:\n",
    "        print(\"m.group():\", m.group()) # 일치하는 문자열 반환\n",
    "        print(\"m.string:\", m.string) # 입력받은 문자열\n",
    "        print(\"m.start():\", m.start()) # 일치하는 문자열의 시작 index\n",
    "        print(\"m.end():\", m.end()) # 일치하는 문자열의 끝 index\n",
    "        print(\"m.span():\", m.span()) # 일치하는 문자열의 시작 / 끝 index\n",
    "    else:\n",
    "        print(\"매칭되지 않음\")\n",
    "\n",
    "m = p.match(\"t careless catemooo\") # match : 주어진 문자열의 처음부터 일치하는지 확인\n",
    "print_match(m)\n",
    "\n",
    "\n",
    "m = p.search(\"t careless catemooo\")\n",
    "print_match(m)"
   ]
  },
  {
   "cell_type": "code",
   "execution_count": 21,
   "metadata": {},
   "outputs": [
    {
     "name": "stdout",
     "output_type": "stream",
     "text": [
      "['care', 'cafe'] <class 'list'>\n",
      "<class 're.Match'>\n"
     ]
    }
   ],
   "source": [
    "lst = p.findall(\"good caredd cafedd\") # findall : 일치하는 모든 것을 리스트 형태로 반환\n",
    "print(lst, type(lst))\n",
    "print(type(m))"
   ]
  },
  {
   "cell_type": "code",
   "execution_count": 13,
   "metadata": {},
   "outputs": [
    {
     "ename": "AttributeError",
     "evalue": "'str' object has no attribute 'group'",
     "output_type": "error",
     "traceback": [
      "\u001b[1;31m---------------------------------------------------------------------------\u001b[0m",
      "\u001b[1;31mAttributeError\u001b[0m                            Traceback (most recent call last)",
      "\u001b[1;32m<ipython-input-13-9f9dea99ce88>\u001b[0m in \u001b[0;36m<module>\u001b[1;34m\u001b[0m\n\u001b[0;32m      1\u001b[0m \u001b[1;32mfor\u001b[0m \u001b[0mi\u001b[0m \u001b[1;32min\u001b[0m \u001b[0mlst\u001b[0m\u001b[1;33m:\u001b[0m\u001b[1;33m\u001b[0m\u001b[1;33m\u001b[0m\u001b[0m\n\u001b[1;32m----> 2\u001b[1;33m     \u001b[0mprint_match\u001b[0m\u001b[1;33m(\u001b[0m\u001b[0mi\u001b[0m\u001b[1;33m)\u001b[0m\u001b[1;33m\u001b[0m\u001b[1;33m\u001b[0m\u001b[0m\n\u001b[0m",
      "\u001b[1;32m<ipython-input-10-b060fa43cf4c>\u001b[0m in \u001b[0;36mprint_match\u001b[1;34m(m)\u001b[0m\n\u001b[0;32m      5\u001b[0m \u001b[1;32mdef\u001b[0m \u001b[0mprint_match\u001b[0m\u001b[1;33m(\u001b[0m\u001b[0mm\u001b[0m\u001b[1;33m)\u001b[0m\u001b[1;33m:\u001b[0m\u001b[1;33m\u001b[0m\u001b[1;33m\u001b[0m\u001b[0m\n\u001b[0;32m      6\u001b[0m     \u001b[1;32mif\u001b[0m \u001b[0mm\u001b[0m\u001b[1;33m:\u001b[0m\u001b[1;33m\u001b[0m\u001b[1;33m\u001b[0m\u001b[0m\n\u001b[1;32m----> 7\u001b[1;33m         \u001b[0mprint\u001b[0m\u001b[1;33m(\u001b[0m\u001b[1;34m\"m.group():\"\u001b[0m\u001b[1;33m,\u001b[0m \u001b[0mm\u001b[0m\u001b[1;33m.\u001b[0m\u001b[0mgroup\u001b[0m\u001b[1;33m(\u001b[0m\u001b[1;33m)\u001b[0m\u001b[1;33m)\u001b[0m \u001b[1;31m# 일치하는 문자열 반환\u001b[0m\u001b[1;33m\u001b[0m\u001b[1;33m\u001b[0m\u001b[0m\n\u001b[0m\u001b[0;32m      8\u001b[0m         \u001b[0mprint\u001b[0m\u001b[1;33m(\u001b[0m\u001b[1;34m\"m.string:\"\u001b[0m\u001b[1;33m,\u001b[0m \u001b[0mm\u001b[0m\u001b[1;33m.\u001b[0m\u001b[0mstring\u001b[0m\u001b[1;33m)\u001b[0m \u001b[1;31m# 입력받은 문자열\u001b[0m\u001b[1;33m\u001b[0m\u001b[1;33m\u001b[0m\u001b[0m\n\u001b[0;32m      9\u001b[0m         \u001b[0mprint\u001b[0m\u001b[1;33m(\u001b[0m\u001b[1;34m\"m.start():\"\u001b[0m\u001b[1;33m,\u001b[0m \u001b[0mm\u001b[0m\u001b[1;33m.\u001b[0m\u001b[0mstart\u001b[0m\u001b[1;33m(\u001b[0m\u001b[1;33m)\u001b[0m\u001b[1;33m)\u001b[0m \u001b[1;31m# 일치하는 문자열의 시작 index\u001b[0m\u001b[1;33m\u001b[0m\u001b[1;33m\u001b[0m\u001b[0m\n",
      "\u001b[1;31mAttributeError\u001b[0m: 'str' object has no attribute 'group'"
     ]
    }
   ],
   "source": [
    "for i in lst:\n",
    "    print_match(i)"
   ]
  },
  {
   "cell_type": "code",
   "execution_count": 9,
   "metadata": {},
   "outputs": [
    {
     "data": {
      "text/plain": [
       "'{0} {0} 예약하려고 하는데요. {0} 가능한가요?'"
      ]
     },
     "execution_count": 9,
     "metadata": {},
     "output_type": "execute_result"
    }
   ],
   "source": [
    "import re\n",
    "a = '<timeRelative>지금</> <numPeople>여섯명</> 예약하려고 하는데요. <seatType>룸으로</> 가능한가요?'\n",
    "re.sub('<[a-z|A-Z]*>([^<]*)</>','{0}',a)"
   ]
  },
  {
   "cell_type": "code",
   "execution_count": 4,
   "metadata": {},
   "outputs": [
    {
     "name": "stdout",
     "output_type": "stream",
     "text": [
      "010-1234-5678\n"
     ]
    }
   ],
   "source": [
    "print(re.search(r'''\n",
    "010-# 핸드폰 앞자리 \n",
    "\\d{4}-# 중간자리\n",
    "\\d{4}# 뒷자리''',\n",
    "                '010-1234-5678',\n",
    "                re.VERBOSE).group())"
   ]
  },
  {
   "cell_type": "code",
   "execution_count": 6,
   "metadata": {},
   "outputs": [
    {
     "name": "stdout",
     "output_type": "stream",
     "text": [
      "010-1234-5678\n"
     ]
    }
   ],
   "source": [
    "print(re.search(r'''\n",
    "010-# 핸드폰 앞자리 \n",
    "\\d{4}-# 중간자리\n",
    "\\d{4}# 뒷자리''',\n",
    "                '010-1234-5678', re.X).group())"
   ]
  },
  {
   "cell_type": "code",
   "execution_count": 11,
   "metadata": {},
   "outputs": [
    {
     "name": "stdout",
     "output_type": "stream",
     "text": [
      "010-1234-5678\n"
     ]
    }
   ],
   "source": [
    "print(re.search(r'''010-\\d{4}-\\d{4}''',\n",
    "                '가가가 010-1234-5678 5845 가가가 010-9874-4321 5845').group())"
   ]
  },
  {
   "cell_type": "code",
   "execution_count": 9,
   "metadata": {},
   "outputs": [
    {
     "name": "stdout",
     "output_type": "stream",
     "text": [
      "<re.Match object; span=(0, 13), match='010-1234-5678'>\n"
     ]
    }
   ],
   "source": [
    "print(re.search(r'''010-\\d{4}-\\d{4}''',\n",
    "                '010-1234-5678'))"
   ]
  },
  {
   "cell_type": "code",
   "execution_count": 8,
   "metadata": {},
   "outputs": [
    {
     "name": "stdout",
     "output_type": "stream",
     "text": [
      "re.compile('\\x08(?!\\x08to\\x08)\\\\w+')\n"
     ]
    }
   ],
   "source": [
    "import re\n",
    "p = re.compile('\\b(?!\\bto\\b)\\w+')\n",
    "a = p.search('rkrk to 새 이름')\n",
    "print(p)"
   ]
  },
  {
   "cell_type": "code",
   "execution_count": 10,
   "metadata": {},
   "outputs": [
    {
     "name": "stdout",
     "output_type": "stream",
     "text": [
      "http:\n",
      "http\n"
     ]
    }
   ],
   "source": [
    "p = re.compile(\".+:\")\n",
    "m = p.search(\"http://google.com\")\n",
    "print(m.group())\n",
    "\n",
    "p = re.compile(\".+(?=:)\")\n",
    "m = p.search(\"http://google.com\")\n",
    "print(m.group())"
   ]
  },
  {
   "cell_type": "code",
   "execution_count": 11,
   "metadata": {},
   "outputs": [
    {
     "name": "stdout",
     "output_type": "stream",
     "text": [
      "http://google.com\n"
     ]
    }
   ],
   "source": [
    "p = re.compile(\".+(?!:)\")\n",
    "m = p.search(\"http://google.com\")\n",
    "print(m.group())"
   ]
  },
  {
   "cell_type": "code",
   "execution_count": 12,
   "metadata": {},
   "outputs": [
    {
     "name": "stdout",
     "output_type": "stream",
     "text": [
      "<re.Match object; span=(3, 8), match='class'>\n",
      "None\n"
     ]
    }
   ],
   "source": [
    "p = re.compile(r'\\bclass\\b')\n",
    "print(p.search('no class at all'))  \n",
    "print(p.search('no tclass at all'))  "
   ]
  },
  {
   "cell_type": "code",
   "execution_count": 13,
   "metadata": {},
   "outputs": [
    {
     "name": "stdout",
     "output_type": "stream",
     "text": [
      "<re.Match object; span=(0, 9), match='ABCABCABC'>\n",
      "ABCABCABC\n"
     ]
    }
   ],
   "source": [
    "#그룹을 만들어 주는 메타 문자는 바로 ( )이다.\n",
    "p = re.compile('(ABC)+')\n",
    "m = p.search('ABCABCABC OK?')\n",
    "print(m) # <re.Match object; span=(0, 9), match='ABCABCABC'>\n",
    "print(m.group()) #ABCABCABC"
   ]
  },
  {
   "cell_type": "code",
   "execution_count": 17,
   "metadata": {},
   "outputs": [
    {
     "name": "stdout",
     "output_type": "stream",
     "text": [
      "ABC\n"
     ]
    }
   ],
   "source": [
    "print(m.group(1))"
   ]
  },
  {
   "cell_type": "code",
   "execution_count": 21,
   "metadata": {},
   "outputs": [
    {
     "name": "stdout",
     "output_type": "stream",
     "text": [
      "park 010-1234-1234\n",
      "park 010-1234-1234\n",
      "park\n",
      "010-1234-1234\n"
     ]
    }
   ],
   "source": [
    "p = re.compile(r\"(\\w+)\\s+(\\d+[-]\\d+[-]\\d+)\") # () 로 그룹만들기\n",
    "m = p.search(\"park 010-1234-1234\")\n",
    "print(m.group())\n",
    "print(m.group(0))\n",
    "print(m.group(1))\n",
    "print(m.group(2))"
   ]
  },
  {
   "cell_type": "code",
   "execution_count": 22,
   "metadata": {},
   "outputs": [
    {
     "name": "stdout",
     "output_type": "stream",
     "text": [
      "010\n"
     ]
    }
   ],
   "source": [
    "p = re.compile(r\"(\\w+)\\s+((\\d+)[-]\\d+[-]\\d+)\")\n",
    "m = p.search(\"park 010-1234-1234\")\n",
    "print(m.group(3))\n",
    "#010"
   ]
  },
  {
   "cell_type": "code",
   "execution_count": 27,
   "metadata": {},
   "outputs": [
    {
     "data": {
      "text/plain": [
       "'the the'"
      ]
     },
     "execution_count": 27,
     "metadata": {},
     "output_type": "execute_result"
    }
   ],
   "source": [
    "#재참조 메타 문자인 \\1이다.\n",
    "p = re.compile(r'(\\b\\w+)\\s+\\1') \n",
    "#p = re.compile(r'(\\b\\w+)\\s+') \n",
    "p.search('Paris in the the spring').group()"
   ]
  },
  {
   "cell_type": "code",
   "execution_count": 29,
   "metadata": {},
   "outputs": [
    {
     "name": "stdout",
     "output_type": "stream",
     "text": [
      "park\n",
      "park\n",
      "park 010-1234-1234\n"
     ]
    }
   ],
   "source": [
    "#(?P<그룹명>...)\n",
    "\n",
    "p = re.compile(r\"(?P<name>\\w+)\\s+((\\d+)[-]\\d+[-]\\d+)\")\n",
    "m = p.search(\"park 010-1234-1234\")\n",
    "print(m.group(\"name\"))\n",
    "print(m.group(1))\n",
    "print(m.group())"
   ]
  },
  {
   "cell_type": "code",
   "execution_count": 30,
   "metadata": {},
   "outputs": [
    {
     "data": {
      "text/plain": [
       "'colour socks and red shoes'"
      ]
     },
     "execution_count": 30,
     "metadata": {},
     "output_type": "execute_result"
    }
   ],
   "source": [
    "p = re.compile('(blue|white|red)')\n",
    "p.sub('colour', 'blue socks and red shoes') #'colour socks and colour shoes'\n",
    "p.sub('colour', 'blue socks and red shoes', count=1) #'colour socks and red shoes'"
   ]
  },
  {
   "cell_type": "code",
   "execution_count": 31,
   "metadata": {},
   "outputs": [
    {
     "name": "stdout",
     "output_type": "stream",
     "text": [
      "010-1234-1234 park\n"
     ]
    }
   ],
   "source": [
    "p = re.compile(r\"(?P<name>\\w+)\\s+(?P<phone>(\\d+)[-]\\d+[-]\\d+)\")\n",
    "print(p.sub(\"\\g<2> \\g<1>\", \"park 010-1234-1234\")) # 010-1234-1234 park\n",
    "\n"
   ]
  },
  {
   "cell_type": "code",
   "execution_count": 32,
   "metadata": {},
   "outputs": [
    {
     "name": "stdout",
     "output_type": "stream",
     "text": [
      "<html><head><title>Title</title>\n",
      "<html>\n"
     ]
    }
   ],
   "source": [
    "# ? \n",
    "s = '<html><head><title>Title</title>'\n",
    "len(s)\n",
    "\n",
    "\n",
    "print(re.match('<.*>', s).group()) #<html><head><title>Title</title>\n",
    "print(re.match('<.*?>', s).group())  #<html>"
   ]
  },
  {
   "cell_type": "code",
   "execution_count": null,
   "metadata": {},
   "outputs": [],
   "source": []
  }
 ],
 "metadata": {
  "kernelspec": {
   "display_name": "Python 3",
   "language": "python",
   "name": "python3"
  },
  "language_info": {
   "codemirror_mode": {
    "name": "ipython",
    "version": 3
   },
   "file_extension": ".py",
   "mimetype": "text/x-python",
   "name": "python",
   "nbconvert_exporter": "python",
   "pygments_lexer": "ipython3",
   "version": "3.7.3"
  }
 },
 "nbformat": 4,
 "nbformat_minor": 2
}
