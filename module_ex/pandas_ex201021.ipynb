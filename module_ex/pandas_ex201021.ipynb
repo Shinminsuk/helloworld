{
 "cells": [
  {
   "cell_type": "code",
   "execution_count": null,
   "metadata": {},
   "outputs": [],
   "source": [
    "%matplotlib inline\n",
    "import pandas as pd\n",
    "import numpy as np\n",
    "\n",
    "# 파일을 읽을때 : tsv는 탭으로 구분된 \n",
    "#gapminder = pd.read_csv('c:\\\\doit\\\\data\\\\08_gap-every-five-years.tsv', sep='\\t')\n",
    "\n",
    "gapminder_r_url = \"https://raw.githubusercontent.com/jennybc/gapminder/master/data-raw/07_gap-merged-with-continent.tsv\"\n",
    "gapminder = pd.read_csv(gapminder_r_url, sep=\"\\t\")\n",
    "gapminder"
   ]
  },
  {
   "cell_type": "code",
   "execution_count": null,
   "metadata": {},
   "outputs": [],
   "source": [
    "print(gapminder.shape)\n",
    "print(gapminder.head())\n",
    "print(gapminder.tail())\n",
    "print(gapminder.info())"
   ]
  },
  {
   "cell_type": "code",
   "execution_count": null,
   "metadata": {},
   "outputs": [],
   "source": [
    "gapminder.describe()"
   ]
  },
  {
   "cell_type": "code",
   "execution_count": null,
   "metadata": {},
   "outputs": [],
   "source": [
    "gapminder.query(\"country=='Korea, Rep.' & year == 2007\")\n",
    "gapminder.query(\"country=='Korea, Rep.'\")"
   ]
  },
  {
   "cell_type": "code",
   "execution_count": null,
   "metadata": {},
   "outputs": [],
   "source": [
    "gapminder.sort_values(by=[\"year\", \"country\"]).head()"
   ]
  },
  {
   "cell_type": "code",
   "execution_count": null,
   "metadata": {},
   "outputs": [],
   "source": [
    "gapminder[['pop','gdpPercap']].head()"
   ]
  },
  {
   "cell_type": "code",
   "execution_count": null,
   "metadata": {},
   "outputs": [],
   "source": [
    "gapminder.\\\n",
    "    assign(total_gdp = lambda x: (x['pop'] * x['gdpPercap'])).\\\n",
    "    assign(le_gdp_ratio = lambda x: (x['lifeExp'] / x['gdpPercap'])).\\\n",
    "    assign(lgrk = lambda x: x['le_gdp_ratio'] * 100).\\\n",
    "    head()"
   ]
  },
  {
   "cell_type": "code",
   "execution_count": null,
   "metadata": {},
   "outputs": [],
   "source": [
    "gapminder.lifeExp.plot.hist()"
   ]
  },
  {
   "cell_type": "code",
   "execution_count": 1,
   "metadata": {},
   "outputs": [
    {
     "ename": "NameError",
     "evalue": "name 'pd' is not defined",
     "output_type": "error",
     "traceback": [
      "\u001b[1;31m---------------------------------------------------------------------------\u001b[0m",
      "\u001b[1;31mNameError\u001b[0m                                 Traceback (most recent call last)",
      "\u001b[1;32m<ipython-input-1-50cc8551406a>\u001b[0m in \u001b[0;36m<module>\u001b[1;34m\u001b[0m\n\u001b[0;32m      1\u001b[0m \u001b[1;31m# 파일을 읽을때 : tsv는 탭으로 구분된\u001b[0m\u001b[1;33m\u001b[0m\u001b[1;33m\u001b[0m\u001b[1;33m\u001b[0m\u001b[0m\n\u001b[1;32m----> 2\u001b[1;33m \u001b[0mgapminder\u001b[0m \u001b[1;33m=\u001b[0m \u001b[0mpd\u001b[0m\u001b[1;33m.\u001b[0m\u001b[0mread_csv\u001b[0m\u001b[1;33m(\u001b[0m\u001b[1;34m'c:\\\\doit\\\\data\\\\08_gap-every-five-years.tsv'\u001b[0m\u001b[1;33m,\u001b[0m \u001b[0msep\u001b[0m\u001b[1;33m=\u001b[0m\u001b[1;34m'\\t'\u001b[0m\u001b[1;33m)\u001b[0m\u001b[1;33m\u001b[0m\u001b[1;33m\u001b[0m\u001b[0m\n\u001b[0m",
      "\u001b[1;31mNameError\u001b[0m: name 'pd' is not defined"
     ]
    }
   ],
   "source": [
    "gapminder.aggregate(['mean', 'median'])"
   ]
  },
  {
   "cell_type": "code",
   "execution_count": null,
   "metadata": {},
   "outputs": [],
   "source": [
    "# pandas dataframe 연습\n",
    "dummy_data1 = {\n",
    "'id': ['1', '2', '3', '4', '5'],\n",
    "'Feature1': ['A', 'C', 'E', 'G', 'I'],\n",
    "'Feature2': ['B', 'D', 'F', 'H', 'J']}\n",
    "df1 = pd.DataFrame(dummy_data1)\n",
    "df1"
   ]
  },
  {
   "cell_type": "code",
   "execution_count": null,
   "metadata": {},
   "outputs": [],
   "source": [
    "dummy_data2 = {\n",
    "'id': ['1', '2', '6', '7', '8'],\n",
    "'Feature1': ['K', 'M', 'O', 'Q', 'S'],\n",
    "'Feature2': ['L', 'N', 'P', 'R', 'T']}\n",
    "df2 = pd.DataFrame(dummy_data2, columns = ['id', 'Feature1', 'Feature2'])\n",
    "df2"
   ]
  },
  {
   "cell_type": "code",
   "execution_count": null,
   "metadata": {},
   "outputs": [],
   "source": [
    "dummy_data3 = {\n",
    "'id': ['1', '2', '3', '4', '5', '7', '8', '9', '10', '11'],\n",
    "'Feature3': [12, 13, 14, 15, 16, 17, 15, 12, 13, 23]}\n",
    "\n",
    "df3 = pd.DataFrame(dummy_data3, columns = ['id', 'Feature3'])\n",
    "df3\n"
   ]
  },
  {
   "cell_type": "code",
   "execution_count": null,
   "metadata": {},
   "outputs": [],
   "source": [
    "df_row = pd.concat([df1,df2], ignore_index=True)\n",
    "df_row"
   ]
  },
  {
   "cell_type": "code",
   "execution_count": null,
   "metadata": {},
   "outputs": [],
   "source": [
    "frame=[df1,df2]\n",
    "df_key = pd.concat(frame, keys=['x','y'])\n",
    "df_key"
   ]
  },
  {
   "cell_type": "code",
   "execution_count": null,
   "metadata": {},
   "outputs": [],
   "source": [
    "df_key.loc['y']"
   ]
  },
  {
   "cell_type": "code",
   "execution_count": null,
   "metadata": {},
   "outputs": [],
   "source": [
    "# 소주제 1: 특정 항목들을 분리해서 추출하기\n",
    "no = 1\n",
    "no2 =[ ]\n",
    "contents2=[ ]\n",
    "tags2=[ ]\n",
    "\n",
    "for i in content_list:\n",
    "    no2.append(no)  # 번호\n",
    "    contents = i.find('div','tit').get_text( )\n",
    "    contents2.append(contents) #내용\n",
    "    tag = i.find('p','tag').get_text()\n",
    "    tags2.append(tag) #태그\n",
    "    \n",
    "    no += 1\n",
    "\n",
    "#  pandas 로 만들기 \n",
    "import pandas as pd\n",
    "\n",
    "korea_trip = pd.DataFrame()\n",
    "korea_trip['번호']=no2\n",
    "korea_trip['내용']=contents2\n",
    "korea_trip['태그']=tags2\n",
    "\n",
    "# csv 형태로 저장하기\n",
    "korea_trip.to_csv(fc_name,encoding=\"utf-8-sig\")\n",
    "print(\" csv 파일 저장 경로: %s\" %fc_name)\n",
    "\n",
    "# 엑셀 형태로 저장하기\n",
    "import xlwt   # pip install xlwt 실행 후 수행\n",
    "korea_trip.to_excel(fx_name)\n",
    "print(\" xls 파일 저장 경로: %s\" %fx_name)"
   ]
  },
  {
   "cell_type": "code",
   "execution_count": null,
   "metadata": {},
   "outputs": [],
   "source": [
    "data_list = []\n",
    "\n",
    "for item in row:\n",
    "    cols = item.select(\"td\")\n",
    "    \n",
    "    item_dic = {\n",
    "        \"제목\": cols[0].text.strip(), \n",
    "        \"작성자\": cols[1].text.strip(), \n",
    "        \"작성일\": cols[2].text.strip()\n",
    "    }\n",
    "    \n",
    "    data_list.append(item_dic)\n",
    "\n",
    "df = DataFrame(data_list)\n",
    "df"
   ]
  }
 ],
 "metadata": {
  "kernelspec": {
   "display_name": "Python 3",
   "language": "python",
   "name": "python3"
  },
  "language_info": {
   "codemirror_mode": {
    "name": "ipython",
    "version": 3
   },
   "file_extension": ".py",
   "mimetype": "text/x-python",
   "name": "python",
   "nbconvert_exporter": "python",
   "pygments_lexer": "ipython3",
   "version": "3.7.3"
  }
 },
 "nbformat": 4,
 "nbformat_minor": 2
}
